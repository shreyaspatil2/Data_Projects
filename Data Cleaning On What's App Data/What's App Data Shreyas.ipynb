{
 "cells": [
  {
   "cell_type": "markdown",
   "metadata": {},
   "source": [
    "# Import Important Libraries"
   ]
  },
  {
   "cell_type": "code",
   "execution_count": 1,
   "metadata": {},
   "outputs": [],
   "source": [
    "import numpy as np\n",
    "import pandas as pd"
   ]
  },
  {
   "cell_type": "markdown",
   "metadata": {},
   "source": [
    "## Load Data"
   ]
  },
  {
   "cell_type": "code",
   "execution_count": 2,
   "metadata": {},
   "outputs": [],
   "source": [
    "df = pd.read_excel(\"C:/Users/USER/Downloads/ProcessedWhatsAppData.xlsx\")"
   ]
  },
  {
   "cell_type": "code",
   "execution_count": 3,
   "metadata": {},
   "outputs": [
    {
     "data": {
      "text/html": [
       "<div>\n",
       "<style scoped>\n",
       "    .dataframe tbody tr th:only-of-type {\n",
       "        vertical-align: middle;\n",
       "    }\n",
       "\n",
       "    .dataframe tbody tr th {\n",
       "        vertical-align: top;\n",
       "    }\n",
       "\n",
       "    .dataframe thead th {\n",
       "        text-align: right;\n",
       "    }\n",
       "</style>\n",
       "<table border=\"1\" class=\"dataframe\">\n",
       "  <thead>\n",
       "    <tr style=\"text-align: right;\">\n",
       "      <th></th>\n",
       "      <th>Unnamed: 0</th>\n",
       "      <th>Unnamed: 0.1</th>\n",
       "      <th>Timestamp</th>\n",
       "      <th>1.\\tName</th>\n",
       "      <th>2.\\tGender</th>\n",
       "      <th>3.\\tClass/Course</th>\n",
       "      <th>4.\\tAge</th>\n",
       "      <th>5.\\tWhich network provider do you use for WhatsApp?</th>\n",
       "      <th>6.\\tWhich language do you prefer to chat/message using WhatsApp?</th>\n",
       "      <th>7.\\tHow many WhatsApp groups do you have?</th>\n",
       "      <th>...</th>\n",
       "      <th>15.\\tAre you dissatisfied with any of Whatsapp's features?</th>\n",
       "      <th>16.\\tWhat feature would you like to see added to Whatsapp?</th>\n",
       "      <th>17.\\tWhat level of security, implemented in Whatsapp, do you require?</th>\n",
       "      <th>Apart from using Whatsapp on your phone, do you use the app on another device?</th>\n",
       "      <th>19.\\tAre you concerned about your privacy when using Whatsapp? (For example, everyone who has your number can see your picture)</th>\n",
       "      <th>20.\\tOverall, how satisfied are you with WhatsApp?</th>\n",
       "      <th>21.\\tDo you use any other Messenger other than WhatsApp?</th>\n",
       "      <th>22.\\tHow many times do you change your profile picture?</th>\n",
       "      <th>23.\\tHow many times do you change your WhatsApp status?</th>\n",
       "      <th>24. Do you feel WhatsApp should be included as a learning tool in education?</th>\n",
       "    </tr>\n",
       "  </thead>\n",
       "  <tbody>\n",
       "    <tr>\n",
       "      <td>0</td>\n",
       "      <td>0</td>\n",
       "      <td>0</td>\n",
       "      <td>2018-01-18 13:18:11.055</td>\n",
       "      <td>Soniya Sharma</td>\n",
       "      <td>Female</td>\n",
       "      <td>MCA II</td>\n",
       "      <td>23</td>\n",
       "      <td>bsnl</td>\n",
       "      <td>English, Marathi, hindi</td>\n",
       "      <td>15</td>\n",
       "      <td>...</td>\n",
       "      <td>No</td>\n",
       "      <td>add a features who one can see our profile pic...</td>\n",
       "      <td>I want the best possible security for my infor...</td>\n",
       "      <td>Yes, on my other phone</td>\n",
       "      <td>Yes</td>\n",
       "      <td>Very satisfied</td>\n",
       "      <td>Facebook Messenger, Hike</td>\n",
       "      <td>Per year</td>\n",
       "      <td>when i want to set then set status otherwise r...</td>\n",
       "      <td>Yes</td>\n",
       "    </tr>\n",
       "    <tr>\n",
       "      <td>1</td>\n",
       "      <td>1</td>\n",
       "      <td>1</td>\n",
       "      <td>2018-01-18 13:20:23.542</td>\n",
       "      <td>Ayodhya Pandurang Jadhav</td>\n",
       "      <td>Female</td>\n",
       "      <td>MCA II</td>\n",
       "      <td>22</td>\n",
       "      <td>Airtel</td>\n",
       "      <td>English, Marathi</td>\n",
       "      <td>7</td>\n",
       "      <td>...</td>\n",
       "      <td>No</td>\n",
       "      <td>Mini Games</td>\n",
       "      <td>I want the best possible security for my infor...</td>\n",
       "      <td>No</td>\n",
       "      <td>Yes</td>\n",
       "      <td>neutral</td>\n",
       "      <td>Facebook Messenger, Hike</td>\n",
       "      <td>Per week</td>\n",
       "      <td>Per month</td>\n",
       "      <td>Yes</td>\n",
       "    </tr>\n",
       "    <tr>\n",
       "      <td>2</td>\n",
       "      <td>2</td>\n",
       "      <td>2</td>\n",
       "      <td>2018-01-18 13:22:58.706</td>\n",
       "      <td>Shrijeet Patil</td>\n",
       "      <td>Male</td>\n",
       "      <td>MCA II</td>\n",
       "      <td>22</td>\n",
       "      <td>bsnl</td>\n",
       "      <td>English, Marathi, hindi</td>\n",
       "      <td>15</td>\n",
       "      <td>...</td>\n",
       "      <td>No</td>\n",
       "      <td>No new features are necessary</td>\n",
       "      <td>I want the best possible security for my infor...</td>\n",
       "      <td>Yes, on my other phone</td>\n",
       "      <td>Yes</td>\n",
       "      <td>Moderately satisfied</td>\n",
       "      <td>Facebook Messenger, Hike</td>\n",
       "      <td>Per month</td>\n",
       "      <td>i don''t set a status</td>\n",
       "      <td>Yes</td>\n",
       "    </tr>\n",
       "    <tr>\n",
       "      <td>3</td>\n",
       "      <td>3</td>\n",
       "      <td>3</td>\n",
       "      <td>2018-01-18 13:23:12.070</td>\n",
       "      <td>Heena</td>\n",
       "      <td>Female</td>\n",
       "      <td>MCA II</td>\n",
       "      <td>21</td>\n",
       "      <td>Reliance Jio</td>\n",
       "      <td>English, Marathi</td>\n",
       "      <td>5</td>\n",
       "      <td>...</td>\n",
       "      <td>No</td>\n",
       "      <td>No new features are necessary</td>\n",
       "      <td>I want the best possible security for my infor...</td>\n",
       "      <td>No</td>\n",
       "      <td>No</td>\n",
       "      <td>Very satisfied</td>\n",
       "      <td>Facebook Messenger, Hike</td>\n",
       "      <td>Don’t remember</td>\n",
       "      <td>Per day</td>\n",
       "      <td>Yes</td>\n",
       "    </tr>\n",
       "    <tr>\n",
       "      <td>4</td>\n",
       "      <td>4</td>\n",
       "      <td>4</td>\n",
       "      <td>2018-01-18 13:29:01.150</td>\n",
       "      <td>Arati Dubule</td>\n",
       "      <td>Female</td>\n",
       "      <td>MCA II</td>\n",
       "      <td>22</td>\n",
       "      <td>Idea</td>\n",
       "      <td>English, Marathi, Hindi</td>\n",
       "      <td>10</td>\n",
       "      <td>...</td>\n",
       "      <td>No</td>\n",
       "      <td>No new features are necessary</td>\n",
       "      <td>I want the best possible security for my infor...</td>\n",
       "      <td>No</td>\n",
       "      <td>Yes</td>\n",
       "      <td>Moderately satisfied</td>\n",
       "      <td>Facebook Messenger, Hike</td>\n",
       "      <td>When I want to change my profile pic</td>\n",
       "      <td>When I want to change it</td>\n",
       "      <td>Yes</td>\n",
       "    </tr>\n",
       "  </tbody>\n",
       "</table>\n",
       "<p>5 rows × 27 columns</p>\n",
       "</div>"
      ],
      "text/plain": [
       "   Unnamed: 0  Unnamed: 0.1               Timestamp  \\\n",
       "0           0             0 2018-01-18 13:18:11.055   \n",
       "1           1             1 2018-01-18 13:20:23.542   \n",
       "2           2             2 2018-01-18 13:22:58.706   \n",
       "3           3             3 2018-01-18 13:23:12.070   \n",
       "4           4             4 2018-01-18 13:29:01.150   \n",
       "\n",
       "                    1.\\tName 2.\\tGender 3.\\tClass/Course   4.\\tAge  \\\n",
       "0              Soniya Sharma     Female            MCA II       23   \n",
       "1   Ayodhya Pandurang Jadhav     Female            MCA II       22   \n",
       "2             Shrijeet Patil       Male            MCA II       22   \n",
       "3                     Heena      Female            MCA II       21   \n",
       "4               Arati Dubule     Female            MCA II       22   \n",
       "\n",
       "  5.\\tWhich network provider do you use for WhatsApp?   \\\n",
       "0                                               bsnl     \n",
       "1                                             Airtel     \n",
       "2                                               bsnl     \n",
       "3                                       Reliance Jio     \n",
       "4                                               Idea     \n",
       "\n",
       "  6.\\tWhich language do you prefer to chat/message using WhatsApp?  \\\n",
       "0                            English, Marathi, hindi                 \n",
       "1                                   English, Marathi                 \n",
       "2                            English, Marathi, hindi                 \n",
       "3                                   English, Marathi                 \n",
       "4                            English, Marathi, Hindi                 \n",
       "\n",
       "   7.\\tHow many WhatsApp groups do you have?  ...  \\\n",
       "0                                         15  ...   \n",
       "1                                          7  ...   \n",
       "2                                         15  ...   \n",
       "3                                          5  ...   \n",
       "4                                         10  ...   \n",
       "\n",
       "   15.\\tAre you dissatisfied with any of Whatsapp's features?  \\\n",
       "0                                                 No            \n",
       "1                                                 No            \n",
       "2                                                 No            \n",
       "3                                                 No            \n",
       "4                                                 No            \n",
       "\n",
       "   16.\\tWhat feature would you like to see added to Whatsapp?  \\\n",
       "0  add a features who one can see our profile pic...            \n",
       "1                                         Mini Games            \n",
       "2                      No new features are necessary            \n",
       "3                      No new features are necessary            \n",
       "4                      No new features are necessary            \n",
       "\n",
       "   17.\\tWhat level of security, implemented in Whatsapp, do you require?  \\\n",
       "0  I want the best possible security for my infor...                       \n",
       "1  I want the best possible security for my infor...                       \n",
       "2  I want the best possible security for my infor...                       \n",
       "3  I want the best possible security for my infor...                       \n",
       "4  I want the best possible security for my infor...                       \n",
       "\n",
       "  Apart from using Whatsapp on your phone, do you use the app on another device?  \\\n",
       "0                             Yes, on my other phone                               \n",
       "1                                                 No                               \n",
       "2                             Yes, on my other phone                               \n",
       "3                                                 No                               \n",
       "4                                                 No                               \n",
       "\n",
       "   19.\\tAre you concerned about your privacy when using Whatsapp? (For example, everyone who has your number can see your picture)  \\\n",
       "0                                                Yes                                                                                 \n",
       "1                                                Yes                                                                                 \n",
       "2                                                Yes                                                                                 \n",
       "3                                                 No                                                                                 \n",
       "4                                                Yes                                                                                 \n",
       "\n",
       "  20.\\tOverall, how satisfied are you with WhatsApp?  \\\n",
       "0                                     Very satisfied   \n",
       "1                                            neutral   \n",
       "2                               Moderately satisfied   \n",
       "3                                     Very satisfied   \n",
       "4                               Moderately satisfied   \n",
       "\n",
       "  21.\\tDo you use any other Messenger other than WhatsApp?  \\\n",
       "0                           Facebook Messenger, Hike         \n",
       "1                           Facebook Messenger, Hike         \n",
       "2                           Facebook Messenger, Hike         \n",
       "3                           Facebook Messenger, Hike         \n",
       "4                           Facebook Messenger, Hike         \n",
       "\n",
       "  22.\\tHow many times do you change your profile picture?   \\\n",
       "0                                           Per year         \n",
       "1                                           Per week         \n",
       "2                                          Per month         \n",
       "3                                     Don’t remember         \n",
       "4               When I want to change my profile pic         \n",
       "\n",
       "  23.\\tHow many times do you change your WhatsApp status?  \\\n",
       "0  when i want to set then set status otherwise r...        \n",
       "1                                          Per month        \n",
       "2                              i don''t set a status        \n",
       "3                                            Per day        \n",
       "4                           When I want to change it        \n",
       "\n",
       "  24. Do you feel WhatsApp should be included as a learning tool in education?  \n",
       "0                                                Yes                            \n",
       "1                                                Yes                            \n",
       "2                                                Yes                            \n",
       "3                                                Yes                            \n",
       "4                                                Yes                            \n",
       "\n",
       "[5 rows x 27 columns]"
      ]
     },
     "execution_count": 3,
     "metadata": {},
     "output_type": "execute_result"
    }
   ],
   "source": [
    "# Glimpses of Data\n",
    "df.head()"
   ]
  },
  {
   "cell_type": "code",
   "execution_count": 4,
   "metadata": {},
   "outputs": [],
   "source": [
    "#df.describe()\n",
    "#df.info()"
   ]
  },
  {
   "cell_type": "code",
   "execution_count": 5,
   "metadata": {},
   "outputs": [
    {
     "data": {
      "text/plain": [
       "(106, 27)"
      ]
     },
     "execution_count": 5,
     "metadata": {},
     "output_type": "execute_result"
    }
   ],
   "source": [
    "# Rows and Columns in Data\n",
    "df.shape"
   ]
  },
  {
   "cell_type": "code",
   "execution_count": 6,
   "metadata": {},
   "outputs": [
    {
     "data": {
      "text/html": [
       "<div>\n",
       "<style scoped>\n",
       "    .dataframe tbody tr th:only-of-type {\n",
       "        vertical-align: middle;\n",
       "    }\n",
       "\n",
       "    .dataframe tbody tr th {\n",
       "        vertical-align: top;\n",
       "    }\n",
       "\n",
       "    .dataframe thead th {\n",
       "        text-align: right;\n",
       "    }\n",
       "</style>\n",
       "<table border=\"1\" class=\"dataframe\">\n",
       "  <thead>\n",
       "    <tr style=\"text-align: right;\">\n",
       "      <th></th>\n",
       "      <th>Unnamed: 0</th>\n",
       "      <th>Unnamed: 0.1</th>\n",
       "      <th>Timestamp</th>\n",
       "      <th>1.\\tName</th>\n",
       "      <th>2.\\tGender</th>\n",
       "      <th>3.\\tClass/Course</th>\n",
       "      <th>4.\\tAge</th>\n",
       "      <th>5.\\tWhich network provider do you use for WhatsApp?</th>\n",
       "      <th>6.\\tWhich language do you prefer to chat/message using WhatsApp?</th>\n",
       "      <th>7.\\tHow many WhatsApp groups do you have?</th>\n",
       "      <th>...</th>\n",
       "      <th>15.\\tAre you dissatisfied with any of Whatsapp's features?</th>\n",
       "      <th>16.\\tWhat feature would you like to see added to Whatsapp?</th>\n",
       "      <th>17.\\tWhat level of security, implemented in Whatsapp, do you require?</th>\n",
       "      <th>Apart from using Whatsapp on your phone, do you use the app on another device?</th>\n",
       "      <th>19.\\tAre you concerned about your privacy when using Whatsapp? (For example, everyone who has your number can see your picture)</th>\n",
       "      <th>20.\\tOverall, how satisfied are you with WhatsApp?</th>\n",
       "      <th>21.\\tDo you use any other Messenger other than WhatsApp?</th>\n",
       "      <th>22.\\tHow many times do you change your profile picture?</th>\n",
       "      <th>23.\\tHow many times do you change your WhatsApp status?</th>\n",
       "      <th>24. Do you feel WhatsApp should be included as a learning tool in education?</th>\n",
       "    </tr>\n",
       "  </thead>\n",
       "  <tbody>\n",
       "    <tr>\n",
       "      <td>101</td>\n",
       "      <td>102</td>\n",
       "      <td>110</td>\n",
       "      <td>2018-01-20 12:47:22.211</td>\n",
       "      <td>Swapnali Mandrekar</td>\n",
       "      <td>Female</td>\n",
       "      <td>M. Sc I</td>\n",
       "      <td>21</td>\n",
       "      <td>Reliance Jio</td>\n",
       "      <td>English, Marathi</td>\n",
       "      <td>10</td>\n",
       "      <td>...</td>\n",
       "      <td>Yes (Please specify the feature with reason )</td>\n",
       "      <td>No new features are necessary</td>\n",
       "      <td>I expect common secure techniques to be implem...</td>\n",
       "      <td>No</td>\n",
       "      <td>Yes</td>\n",
       "      <td>Moderately satisfied</td>\n",
       "      <td>text message</td>\n",
       "      <td>Per week</td>\n",
       "      <td>Per month</td>\n",
       "      <td>Maybe</td>\n",
       "    </tr>\n",
       "    <tr>\n",
       "      <td>102</td>\n",
       "      <td>103</td>\n",
       "      <td>111</td>\n",
       "      <td>2018-01-20 12:59:21.946</td>\n",
       "      <td>Mallikarjun</td>\n",
       "      <td>Male</td>\n",
       "      <td>M. Sc I</td>\n",
       "      <td>22</td>\n",
       "      <td>Idea</td>\n",
       "      <td>Marathi</td>\n",
       "      <td>10</td>\n",
       "      <td>...</td>\n",
       "      <td>No</td>\n",
       "      <td>No new features are necessary</td>\n",
       "      <td>I want the best possible security for my infor...</td>\n",
       "      <td>Yes, on my computer</td>\n",
       "      <td>Yes</td>\n",
       "      <td>neutral</td>\n",
       "      <td>Hike</td>\n",
       "      <td>Per week</td>\n",
       "      <td>Per week</td>\n",
       "      <td>Yes</td>\n",
       "    </tr>\n",
       "    <tr>\n",
       "      <td>103</td>\n",
       "      <td>104</td>\n",
       "      <td>112</td>\n",
       "      <td>2018-01-22 10:29:06.687</td>\n",
       "      <td>Vaishnavi Rajesh Chavan</td>\n",
       "      <td>Female</td>\n",
       "      <td>M.Sc Tech 1</td>\n",
       "      <td>22</td>\n",
       "      <td>Idea</td>\n",
       "      <td>Marathi</td>\n",
       "      <td>6</td>\n",
       "      <td>...</td>\n",
       "      <td>No</td>\n",
       "      <td>No new features are necessary</td>\n",
       "      <td>I want the best possible security for my infor...</td>\n",
       "      <td>Yes, on my other phone</td>\n",
       "      <td>Yes</td>\n",
       "      <td>Very satisfied</td>\n",
       "      <td>Telegram, Hike</td>\n",
       "      <td>Per week</td>\n",
       "      <td>Per week</td>\n",
       "      <td>Yes</td>\n",
       "    </tr>\n",
       "    <tr>\n",
       "      <td>104</td>\n",
       "      <td>105</td>\n",
       "      <td>113</td>\n",
       "      <td>2018-01-22 13:57:08.614</td>\n",
       "      <td>Jyoti Vilas Gavade</td>\n",
       "      <td>Female</td>\n",
       "      <td>MCA I</td>\n",
       "      <td>21</td>\n",
       "      <td>Airtel</td>\n",
       "      <td>English, Marathi</td>\n",
       "      <td>10</td>\n",
       "      <td>...</td>\n",
       "      <td>Yes (Please specify the feature with reason )</td>\n",
       "      <td>Mini Games</td>\n",
       "      <td>I want the best possible security for my infor...</td>\n",
       "      <td>No</td>\n",
       "      <td>No</td>\n",
       "      <td>Slightly satisfied</td>\n",
       "      <td>Facebook Messenger</td>\n",
       "      <td>Don’t remember</td>\n",
       "      <td>Don’t remember</td>\n",
       "      <td>Maybe</td>\n",
       "    </tr>\n",
       "    <tr>\n",
       "      <td>105</td>\n",
       "      <td>106</td>\n",
       "      <td>114</td>\n",
       "      <td>2018-01-22 14:00:48.189</td>\n",
       "      <td>Dhulasavant Puja Chandrakant</td>\n",
       "      <td>Female</td>\n",
       "      <td>MCA I</td>\n",
       "      <td>23</td>\n",
       "      <td>Airtel</td>\n",
       "      <td>English, Marathi</td>\n",
       "      <td>9</td>\n",
       "      <td>...</td>\n",
       "      <td>No</td>\n",
       "      <td>Mini Games</td>\n",
       "      <td>I expect common secure techniques to be implem...</td>\n",
       "      <td>No</td>\n",
       "      <td>Yes</td>\n",
       "      <td>Very satisfied</td>\n",
       "      <td>No ,because i am not interested .</td>\n",
       "      <td>Per month</td>\n",
       "      <td>Per week</td>\n",
       "      <td>Maybe</td>\n",
       "    </tr>\n",
       "  </tbody>\n",
       "</table>\n",
       "<p>5 rows × 27 columns</p>\n",
       "</div>"
      ],
      "text/plain": [
       "     Unnamed: 0  Unnamed: 0.1               Timestamp  \\\n",
       "101         102           110 2018-01-20 12:47:22.211   \n",
       "102         103           111 2018-01-20 12:59:21.946   \n",
       "103         104           112 2018-01-22 10:29:06.687   \n",
       "104         105           113 2018-01-22 13:57:08.614   \n",
       "105         106           114 2018-01-22 14:00:48.189   \n",
       "\n",
       "                         1.\\tName 2.\\tGender 3.\\tClass/Course   4.\\tAge  \\\n",
       "101            Swapnali Mandrekar     Female           M. Sc I       21   \n",
       "102                   Mallikarjun       Male           M. Sc I       22   \n",
       "103       Vaishnavi Rajesh Chavan     Female       M.Sc Tech 1       22   \n",
       "104            Jyoti Vilas Gavade     Female             MCA I       21   \n",
       "105  Dhulasavant Puja Chandrakant     Female             MCA I       23   \n",
       "\n",
       "    5.\\tWhich network provider do you use for WhatsApp?   \\\n",
       "101                                       Reliance Jio     \n",
       "102                                               Idea     \n",
       "103                                               Idea     \n",
       "104                                             Airtel     \n",
       "105                                             Airtel     \n",
       "\n",
       "    6.\\tWhich language do you prefer to chat/message using WhatsApp?  \\\n",
       "101                                   English, Marathi                 \n",
       "102                                            Marathi                 \n",
       "103                                            Marathi                 \n",
       "104                                   English, Marathi                 \n",
       "105                                   English, Marathi                 \n",
       "\n",
       "     7.\\tHow many WhatsApp groups do you have?  ...  \\\n",
       "101                                         10  ...   \n",
       "102                                         10  ...   \n",
       "103                                          6  ...   \n",
       "104                                         10  ...   \n",
       "105                                          9  ...   \n",
       "\n",
       "     15.\\tAre you dissatisfied with any of Whatsapp's features?  \\\n",
       "101      Yes (Please specify the feature with reason )            \n",
       "102                                                 No            \n",
       "103                                                 No            \n",
       "104      Yes (Please specify the feature with reason )            \n",
       "105                                                 No            \n",
       "\n",
       "     16.\\tWhat feature would you like to see added to Whatsapp?  \\\n",
       "101                      No new features are necessary            \n",
       "102                      No new features are necessary            \n",
       "103                      No new features are necessary            \n",
       "104                                         Mini Games            \n",
       "105                                         Mini Games            \n",
       "\n",
       "     17.\\tWhat level of security, implemented in Whatsapp, do you require?  \\\n",
       "101  I expect common secure techniques to be implem...                       \n",
       "102  I want the best possible security for my infor...                       \n",
       "103  I want the best possible security for my infor...                       \n",
       "104  I want the best possible security for my infor...                       \n",
       "105  I expect common secure techniques to be implem...                       \n",
       "\n",
       "    Apart from using Whatsapp on your phone, do you use the app on another device?  \\\n",
       "101                                                 No                               \n",
       "102                                Yes, on my computer                               \n",
       "103                             Yes, on my other phone                               \n",
       "104                                                 No                               \n",
       "105                                                 No                               \n",
       "\n",
       "     19.\\tAre you concerned about your privacy when using Whatsapp? (For example, everyone who has your number can see your picture)  \\\n",
       "101                                                Yes                                                                                 \n",
       "102                                                Yes                                                                                 \n",
       "103                                                Yes                                                                                 \n",
       "104                                                 No                                                                                 \n",
       "105                                                Yes                                                                                 \n",
       "\n",
       "    20.\\tOverall, how satisfied are you with WhatsApp?  \\\n",
       "101                               Moderately satisfied   \n",
       "102                                            neutral   \n",
       "103                                     Very satisfied   \n",
       "104                                 Slightly satisfied   \n",
       "105                                     Very satisfied   \n",
       "\n",
       "    21.\\tDo you use any other Messenger other than WhatsApp?  \\\n",
       "101                                       text message         \n",
       "102                                               Hike         \n",
       "103                                     Telegram, Hike         \n",
       "104                                 Facebook Messenger         \n",
       "105                  No ,because i am not interested .         \n",
       "\n",
       "    22.\\tHow many times do you change your profile picture?   \\\n",
       "101                                           Per week         \n",
       "102                                           Per week         \n",
       "103                                           Per week         \n",
       "104                                     Don’t remember         \n",
       "105                                          Per month         \n",
       "\n",
       "    23.\\tHow many times do you change your WhatsApp status?  \\\n",
       "101                                          Per month        \n",
       "102                                           Per week        \n",
       "103                                           Per week        \n",
       "104                                     Don’t remember        \n",
       "105                                           Per week        \n",
       "\n",
       "    24. Do you feel WhatsApp should be included as a learning tool in education?  \n",
       "101                                              Maybe                            \n",
       "102                                                Yes                            \n",
       "103                                                Yes                            \n",
       "104                                              Maybe                            \n",
       "105                                              Maybe                            \n",
       "\n",
       "[5 rows x 27 columns]"
      ]
     },
     "execution_count": 6,
     "metadata": {},
     "output_type": "execute_result"
    }
   ],
   "source": [
    "df.tail()"
   ]
  },
  {
   "cell_type": "code",
   "execution_count": 7,
   "metadata": {},
   "outputs": [],
   "source": [
    "# Ordering from 1 to 106\n",
    "df[\"Unnamed: 0.1\"] = range(1,107)"
   ]
  },
  {
   "cell_type": "markdown",
   "metadata": {},
   "source": [
    "# Rename Columns"
   ]
  },
  {
   "cell_type": "code",
   "execution_count": 8,
   "metadata": {},
   "outputs": [
    {
     "data": {
      "text/plain": [
       "Index(['Unnamed: 0', 'Unnamed: 0.1', 'Timestamp', '1.\\tName', '2.\\tGender',\n",
       "       '3.\\tClass/Course ', '4.\\tAge',\n",
       "       '5.\\tWhich network provider do you use for WhatsApp? ',\n",
       "       '6.\\tWhich language do you prefer to chat/message using WhatsApp?',\n",
       "       '7.\\tHow many WhatsApp groups do you have?',\n",
       "       '8.\\tAverage number of users in each group',\n",
       "       '9.\\tHow much time do you spend on whatsApp(in Hours(Per day))?',\n",
       "       '10.DataUsage', '11.\\tPer day overall data consumption? ( MB)',\n",
       "       '12.\\tNumber of persons you connect/contact regularly through Whatsapp',\n",
       "       '13.\\tWhat best describes your usage of Whatsapp?',\n",
       "       '14.\\tWhich features do you use?',\n",
       "       '15.\\tAre you dissatisfied with any of Whatsapp's features?',\n",
       "       '16.\\tWhat feature would you like to see added to Whatsapp?',\n",
       "       '17.\\tWhat level of security, implemented in Whatsapp, do you require?',\n",
       "       'Apart from using Whatsapp on your phone, do you use the app on another device?',\n",
       "       '19.\\tAre you concerned about your privacy when using Whatsapp? (For example, everyone who has your number can see your picture)',\n",
       "       '20.\\tOverall, how satisfied are you with WhatsApp?',\n",
       "       '21.\\tDo you use any other Messenger other than WhatsApp?',\n",
       "       '22.\\tHow many times do you change your profile picture? ',\n",
       "       '23.\\tHow many times do you change your WhatsApp status?',\n",
       "       '24. Do you feel WhatsApp should be included as a learning tool in education?'],\n",
       "      dtype='object')"
      ]
     },
     "execution_count": 8,
     "metadata": {},
     "output_type": "execute_result"
    }
   ],
   "source": [
    "# Column Names\n",
    "df.columns"
   ]
  },
  {
   "cell_type": "code",
   "execution_count": 9,
   "metadata": {},
   "outputs": [],
   "source": [
    "c = {'Unnamed: 0.1':\"Sr.No\",\n",
    "     '1.\\tName':\"Name\", \n",
    "     '2.\\tGender':\"Gender\",\n",
    "     '3.\\tClass/Course ':\"Class/Course\", \n",
    "     \"4.\\tAge\":\"Age\",\n",
    "     \"5.\\tWhich network provider do you use for WhatsApp? \":\"Network\",\n",
    "     \"6.\\tWhich language do you prefer to chat/message using WhatsApp?\":\"Language\",\n",
    "     \"7.\\tHow many WhatsApp groups do you have?\":\"WhatsAppGroups\",\n",
    "     '8.\\tAverage number of users in each group':\"AvgGroupMembers\",\n",
    "     '9.\\tHow much time do you spend on whatsApp(in Hours(Per day))?':\"TimeSpent\",\n",
    "     '10.DataUsage':\"DataUsage\",\n",
    "     '11.\\tPer day overall data consumption? ( MB)':\"PerDayDataConsumption\",\n",
    "     '12.\\tNumber of persons you connect/contact regularly through Whatsapp':\"RegularContacts\",\n",
    "     '13.\\tWhat best describes your usage of Whatsapp?':\"DescribeWhatsAppUsage\",\n",
    "     '14.\\tWhich features do you use?':\"FeaturesInUse\",\n",
    "     \"15.\\tAre you dissatisfied with any of Whatsapp's features?\":\"FeaturesDissatisfied\",\n",
    "     '16.\\tWhat feature would you like to see added to Whatsapp?':\"FeaturesShouldBeAdded\",\n",
    "     '17.\\tWhat level of security, implemented in Whatsapp, do you require?':\"SecurityRequirment\",\n",
    "     'Apart from using Whatsapp on your phone, do you use the app on another device?':\"OtherDevices\",\n",
    "     '19.\\tAre you concerned about your privacy when using Whatsapp? (For example, everyone who has your number can see your picture)':\"PrivacyConcern\",\n",
    "     '20.\\tOverall, how satisfied are you with WhatsApp?':\"Satisfication\",\n",
    "     '21.\\tDo you use any other Messenger other than WhatsApp?':\"OtherMassanger\",\n",
    "     '22.\\tHow many times do you change your profile picture? ':\"ChangeDP\",\n",
    "     '23.\\tHow many times do you change your WhatsApp status?':\"ChangeStatus\",\n",
    "     '24. Do you feel WhatsApp should be included as a learning tool in education?':\"InclusionInEducation\"}\n",
    "df.rename(columns= c,inplace=True)"
   ]
  },
  {
   "cell_type": "markdown",
   "metadata": {},
   "source": [
    "# Delete Unnecessary Columns"
   ]
  },
  {
   "cell_type": "code",
   "execution_count": 10,
   "metadata": {},
   "outputs": [],
   "source": [
    "del df['Unnamed: 0']\n",
    "del df['Timestamp']"
   ]
  },
  {
   "cell_type": "code",
   "execution_count": 11,
   "metadata": {},
   "outputs": [
    {
     "data": {
      "text/html": [
       "<div>\n",
       "<style scoped>\n",
       "    .dataframe tbody tr th:only-of-type {\n",
       "        vertical-align: middle;\n",
       "    }\n",
       "\n",
       "    .dataframe tbody tr th {\n",
       "        vertical-align: top;\n",
       "    }\n",
       "\n",
       "    .dataframe thead th {\n",
       "        text-align: right;\n",
       "    }\n",
       "</style>\n",
       "<table border=\"1\" class=\"dataframe\">\n",
       "  <thead>\n",
       "    <tr style=\"text-align: right;\">\n",
       "      <th></th>\n",
       "      <th>Sr.No</th>\n",
       "      <th>Name</th>\n",
       "      <th>Gender</th>\n",
       "      <th>Class/Course</th>\n",
       "      <th>Age</th>\n",
       "      <th>Network</th>\n",
       "      <th>Language</th>\n",
       "      <th>WhatsAppGroups</th>\n",
       "      <th>AvgGroupMembers</th>\n",
       "      <th>TimeSpent</th>\n",
       "      <th>...</th>\n",
       "      <th>FeaturesDissatisfied</th>\n",
       "      <th>FeaturesShouldBeAdded</th>\n",
       "      <th>SecurityRequirment</th>\n",
       "      <th>OtherDevices</th>\n",
       "      <th>PrivacyConcern</th>\n",
       "      <th>Satisfication</th>\n",
       "      <th>OtherMassanger</th>\n",
       "      <th>ChangeDP</th>\n",
       "      <th>ChangeStatus</th>\n",
       "      <th>InclusionInEducation</th>\n",
       "    </tr>\n",
       "  </thead>\n",
       "  <tbody>\n",
       "    <tr>\n",
       "      <td>0</td>\n",
       "      <td>1</td>\n",
       "      <td>Soniya Sharma</td>\n",
       "      <td>Female</td>\n",
       "      <td>MCA II</td>\n",
       "      <td>23</td>\n",
       "      <td>bsnl</td>\n",
       "      <td>English, Marathi, hindi</td>\n",
       "      <td>15</td>\n",
       "      <td>100.0</td>\n",
       "      <td>2.466667</td>\n",
       "      <td>...</td>\n",
       "      <td>No</td>\n",
       "      <td>add a features who one can see our profile pic...</td>\n",
       "      <td>I want the best possible security for my infor...</td>\n",
       "      <td>Yes, on my other phone</td>\n",
       "      <td>Yes</td>\n",
       "      <td>Very satisfied</td>\n",
       "      <td>Facebook Messenger, Hike</td>\n",
       "      <td>Per year</td>\n",
       "      <td>when i want to set then set status otherwise r...</td>\n",
       "      <td>Yes</td>\n",
       "    </tr>\n",
       "    <tr>\n",
       "      <td>1</td>\n",
       "      <td>2</td>\n",
       "      <td>Ayodhya Pandurang Jadhav</td>\n",
       "      <td>Female</td>\n",
       "      <td>MCA II</td>\n",
       "      <td>22</td>\n",
       "      <td>Airtel</td>\n",
       "      <td>English, Marathi</td>\n",
       "      <td>7</td>\n",
       "      <td>25.0</td>\n",
       "      <td>2.466667</td>\n",
       "      <td>...</td>\n",
       "      <td>No</td>\n",
       "      <td>Mini Games</td>\n",
       "      <td>I want the best possible security for my infor...</td>\n",
       "      <td>No</td>\n",
       "      <td>Yes</td>\n",
       "      <td>neutral</td>\n",
       "      <td>Facebook Messenger, Hike</td>\n",
       "      <td>Per week</td>\n",
       "      <td>Per month</td>\n",
       "      <td>Yes</td>\n",
       "    </tr>\n",
       "    <tr>\n",
       "      <td>2</td>\n",
       "      <td>3</td>\n",
       "      <td>Shrijeet Patil</td>\n",
       "      <td>Male</td>\n",
       "      <td>MCA II</td>\n",
       "      <td>22</td>\n",
       "      <td>bsnl</td>\n",
       "      <td>English, Marathi, hindi</td>\n",
       "      <td>15</td>\n",
       "      <td>100.0</td>\n",
       "      <td>2.466667</td>\n",
       "      <td>...</td>\n",
       "      <td>No</td>\n",
       "      <td>No new features are necessary</td>\n",
       "      <td>I want the best possible security for my infor...</td>\n",
       "      <td>Yes, on my other phone</td>\n",
       "      <td>Yes</td>\n",
       "      <td>Moderately satisfied</td>\n",
       "      <td>Facebook Messenger, Hike</td>\n",
       "      <td>Per month</td>\n",
       "      <td>i don''t set a status</td>\n",
       "      <td>Yes</td>\n",
       "    </tr>\n",
       "    <tr>\n",
       "      <td>3</td>\n",
       "      <td>4</td>\n",
       "      <td>Heena</td>\n",
       "      <td>Female</td>\n",
       "      <td>MCA II</td>\n",
       "      <td>21</td>\n",
       "      <td>Reliance Jio</td>\n",
       "      <td>English, Marathi</td>\n",
       "      <td>5</td>\n",
       "      <td>10.0</td>\n",
       "      <td>2.466667</td>\n",
       "      <td>...</td>\n",
       "      <td>No</td>\n",
       "      <td>No new features are necessary</td>\n",
       "      <td>I want the best possible security for my infor...</td>\n",
       "      <td>No</td>\n",
       "      <td>No</td>\n",
       "      <td>Very satisfied</td>\n",
       "      <td>Facebook Messenger, Hike</td>\n",
       "      <td>Don’t remember</td>\n",
       "      <td>Per day</td>\n",
       "      <td>Yes</td>\n",
       "    </tr>\n",
       "    <tr>\n",
       "      <td>4</td>\n",
       "      <td>5</td>\n",
       "      <td>Arati Dubule</td>\n",
       "      <td>Female</td>\n",
       "      <td>MCA II</td>\n",
       "      <td>22</td>\n",
       "      <td>Idea</td>\n",
       "      <td>English, Marathi, Hindi</td>\n",
       "      <td>10</td>\n",
       "      <td>40.0</td>\n",
       "      <td>2.466667</td>\n",
       "      <td>...</td>\n",
       "      <td>No</td>\n",
       "      <td>No new features are necessary</td>\n",
       "      <td>I want the best possible security for my infor...</td>\n",
       "      <td>No</td>\n",
       "      <td>Yes</td>\n",
       "      <td>Moderately satisfied</td>\n",
       "      <td>Facebook Messenger, Hike</td>\n",
       "      <td>When I want to change my profile pic</td>\n",
       "      <td>When I want to change it</td>\n",
       "      <td>Yes</td>\n",
       "    </tr>\n",
       "  </tbody>\n",
       "</table>\n",
       "<p>5 rows × 25 columns</p>\n",
       "</div>"
      ],
      "text/plain": [
       "   Sr.No                       Name  Gender Class/Course  Age       Network  \\\n",
       "0      1              Soniya Sharma  Female       MCA II   23          bsnl   \n",
       "1      2   Ayodhya Pandurang Jadhav  Female       MCA II   22        Airtel   \n",
       "2      3             Shrijeet Patil    Male       MCA II   22          bsnl   \n",
       "3      4                     Heena   Female       MCA II   21  Reliance Jio   \n",
       "4      5               Arati Dubule  Female       MCA II   22          Idea   \n",
       "\n",
       "                  Language  WhatsAppGroups  AvgGroupMembers  TimeSpent  ...  \\\n",
       "0  English, Marathi, hindi              15            100.0   2.466667  ...   \n",
       "1         English, Marathi               7             25.0   2.466667  ...   \n",
       "2  English, Marathi, hindi              15            100.0   2.466667  ...   \n",
       "3         English, Marathi               5             10.0   2.466667  ...   \n",
       "4  English, Marathi, Hindi              10             40.0   2.466667  ...   \n",
       "\n",
       "   FeaturesDissatisfied                              FeaturesShouldBeAdded  \\\n",
       "0                    No  add a features who one can see our profile pic...   \n",
       "1                    No                                         Mini Games   \n",
       "2                    No                      No new features are necessary   \n",
       "3                    No                      No new features are necessary   \n",
       "4                    No                      No new features are necessary   \n",
       "\n",
       "                                  SecurityRequirment            OtherDevices  \\\n",
       "0  I want the best possible security for my infor...  Yes, on my other phone   \n",
       "1  I want the best possible security for my infor...                      No   \n",
       "2  I want the best possible security for my infor...  Yes, on my other phone   \n",
       "3  I want the best possible security for my infor...                      No   \n",
       "4  I want the best possible security for my infor...                      No   \n",
       "\n",
       "  PrivacyConcern         Satisfication            OtherMassanger  \\\n",
       "0            Yes        Very satisfied  Facebook Messenger, Hike   \n",
       "1            Yes               neutral  Facebook Messenger, Hike   \n",
       "2            Yes  Moderately satisfied  Facebook Messenger, Hike   \n",
       "3             No        Very satisfied  Facebook Messenger, Hike   \n",
       "4            Yes  Moderately satisfied  Facebook Messenger, Hike   \n",
       "\n",
       "                               ChangeDP  \\\n",
       "0                              Per year   \n",
       "1                              Per week   \n",
       "2                             Per month   \n",
       "3                        Don’t remember   \n",
       "4  When I want to change my profile pic   \n",
       "\n",
       "                                        ChangeStatus InclusionInEducation  \n",
       "0  when i want to set then set status otherwise r...                  Yes  \n",
       "1                                          Per month                  Yes  \n",
       "2                              i don''t set a status                  Yes  \n",
       "3                                            Per day                  Yes  \n",
       "4                           When I want to change it                  Yes  \n",
       "\n",
       "[5 rows x 25 columns]"
      ]
     },
     "execution_count": 11,
     "metadata": {},
     "output_type": "execute_result"
    }
   ],
   "source": [
    "# Glimpses of new Datafile\n",
    "df.head()"
   ]
  },
  {
   "cell_type": "code",
   "execution_count": 12,
   "metadata": {},
   "outputs": [
    {
     "data": {
      "text/plain": [
       "Index(['Sr.No', 'Name', 'Gender', 'Class/Course', 'Age', 'Network', 'Language',\n",
       "       'WhatsAppGroups', 'AvgGroupMembers', 'TimeSpent', 'DataUsage',\n",
       "       'PerDayDataConsumption', 'RegularContacts', 'DescribeWhatsAppUsage',\n",
       "       'FeaturesInUse', 'FeaturesDissatisfied', 'FeaturesShouldBeAdded',\n",
       "       'SecurityRequirment', 'OtherDevices', 'PrivacyConcern', 'Satisfication',\n",
       "       'OtherMassanger', 'ChangeDP', 'ChangeStatus', 'InclusionInEducation'],\n",
       "      dtype='object')"
      ]
     },
     "execution_count": 12,
     "metadata": {},
     "output_type": "execute_result"
    }
   ],
   "source": [
    "df.columns"
   ]
  },
  {
   "cell_type": "markdown",
   "metadata": {},
   "source": [
    "# Columnwise Cleaning"
   ]
  },
  {
   "cell_type": "markdown",
   "metadata": {},
   "source": [
    "## Column : \"Network\""
   ]
  },
  {
   "cell_type": "code",
   "execution_count": 13,
   "metadata": {},
   "outputs": [
    {
     "data": {
      "text/plain": [
       "Idea            47\n",
       "Airtel          19\n",
       "Reliance Jio    17\n",
       "Vodafone        16\n",
       "Uninor           4\n",
       "bsnl             2\n",
       "BSNL             1\n",
       "Name: Network, dtype: int64"
      ]
     },
     "execution_count": 13,
     "metadata": {},
     "output_type": "execute_result"
    }
   ],
   "source": [
    "# No. Of Unique Values\n",
    "df[\"Network\"].value_counts()"
   ]
  },
  {
   "cell_type": "code",
   "execution_count": 14,
   "metadata": {},
   "outputs": [
    {
     "data": {
      "text/plain": [
       "Idea            47\n",
       "Airtel          19\n",
       "Reliance Jio    17\n",
       "Vodafone        16\n",
       "Uninor           4\n",
       "BSNL             3\n",
       "Name: Network, dtype: int64"
      ]
     },
     "execution_count": 14,
     "metadata": {},
     "output_type": "execute_result"
    }
   ],
   "source": [
    "df[\"Network\"].replace({\"bsnl\":\"BSNL\"},inplace=True)\n",
    "df[\"Network\"].value_counts()"
   ]
  },
  {
   "cell_type": "markdown",
   "metadata": {},
   "source": [
    "# Column : \"Language\""
   ]
  },
  {
   "cell_type": "code",
   "execution_count": 15,
   "metadata": {
    "scrolled": true
   },
   "outputs": [
    {
     "data": {
      "text/plain": [
       "English                    67\n",
       "English, Marathi           30\n",
       "Marathi                     5\n",
       "English, Marathi, Hindi     2\n",
       "English, Marathi, hindi     2\n",
       "Name: Language, dtype: int64"
      ]
     },
     "execution_count": 15,
     "metadata": {},
     "output_type": "execute_result"
    }
   ],
   "source": [
    "df[\"Language\"].value_counts()"
   ]
  },
  {
   "cell_type": "code",
   "execution_count": 16,
   "metadata": {},
   "outputs": [],
   "source": [
    "df[\"Language\"].replace({\"English, Marathi, hindi\":\"English, Marathi, Hindi\"},inplace=True)\n",
    "\n",
    "# Removing Commas from the columns\n",
    "import string\n",
    "for i in df[\"Language\"]:\n",
    "    j = df[df[\"Language\"]== i].index.values\n",
    "    a=i.translate(str.maketrans('', '', string.punctuation))\n",
    "    df.loc[j,\"Language\"] = a"
   ]
  },
  {
   "cell_type": "code",
   "execution_count": 17,
   "metadata": {},
   "outputs": [],
   "source": [
    "df[\"Language\"].replace({\"Marathi\":\"0 Marathi\"},inplace=True)\n",
    "\n",
    "# Splitting Language Column into 3 different columns\n",
    "df[[\"English\",\"Marathi\",\"Hindi\"]]= df[\"Language\"].str.split(expand=True) \n",
    "\n",
    "# Remove Language column from our data\n",
    "del df[\"Language\"]"
   ]
  },
  {
   "cell_type": "code",
   "execution_count": 18,
   "metadata": {},
   "outputs": [],
   "source": [
    "# Filling Missing Values with \"0\"\n",
    "df[\"Marathi\"].fillna(0,inplace=True)\n",
    "df[\"Hindi\"].fillna(0,inplace=True)\n",
    "\n",
    "# Replacing NonEmpty Value with \"1\"\n",
    "df[\"English\"].replace({\"English\":\"1\"},inplace=True)\n",
    "df[\"Marathi\"].replace({\"Marathi\":\"1\"},inplace=True)\n",
    "df[\"Hindi\"].replace({\"Hindi\":\"1\"},inplace=True)"
   ]
  },
  {
   "cell_type": "code",
   "execution_count": 19,
   "metadata": {},
   "outputs": [
    {
     "data": {
      "text/html": [
       "<div>\n",
       "<style scoped>\n",
       "    .dataframe tbody tr th:only-of-type {\n",
       "        vertical-align: middle;\n",
       "    }\n",
       "\n",
       "    .dataframe tbody tr th {\n",
       "        vertical-align: top;\n",
       "    }\n",
       "\n",
       "    .dataframe thead th {\n",
       "        text-align: right;\n",
       "    }\n",
       "</style>\n",
       "<table border=\"1\" class=\"dataframe\">\n",
       "  <thead>\n",
       "    <tr style=\"text-align: right;\">\n",
       "      <th></th>\n",
       "      <th>English</th>\n",
       "      <th>Marathi</th>\n",
       "      <th>Hindi</th>\n",
       "    </tr>\n",
       "  </thead>\n",
       "  <tbody>\n",
       "    <tr>\n",
       "      <td>0</td>\n",
       "      <td>1</td>\n",
       "      <td>1</td>\n",
       "      <td>1</td>\n",
       "    </tr>\n",
       "    <tr>\n",
       "      <td>1</td>\n",
       "      <td>1</td>\n",
       "      <td>1</td>\n",
       "      <td>0</td>\n",
       "    </tr>\n",
       "    <tr>\n",
       "      <td>2</td>\n",
       "      <td>1</td>\n",
       "      <td>1</td>\n",
       "      <td>1</td>\n",
       "    </tr>\n",
       "    <tr>\n",
       "      <td>3</td>\n",
       "      <td>1</td>\n",
       "      <td>1</td>\n",
       "      <td>0</td>\n",
       "    </tr>\n",
       "    <tr>\n",
       "      <td>4</td>\n",
       "      <td>1</td>\n",
       "      <td>1</td>\n",
       "      <td>1</td>\n",
       "    </tr>\n",
       "  </tbody>\n",
       "</table>\n",
       "</div>"
      ],
      "text/plain": [
       "  English Marathi Hindi\n",
       "0       1       1     1\n",
       "1       1       1     0\n",
       "2       1       1     1\n",
       "3       1       1     0\n",
       "4       1       1     1"
      ]
     },
     "execution_count": 19,
     "metadata": {},
     "output_type": "execute_result"
    }
   ],
   "source": [
    "df[[\"English\",\"Marathi\",\"Hindi\"]].head()"
   ]
  },
  {
   "cell_type": "markdown",
   "metadata": {},
   "source": [
    "# Checking Some Other Columns"
   ]
  },
  {
   "cell_type": "code",
   "execution_count": 20,
   "metadata": {},
   "outputs": [
    {
     "name": "stdout",
     "output_type": "stream",
     "text": [
      "5      21\n",
      "7      12\n",
      "4      11\n",
      "10      9\n",
      "8       9\n",
      "6       7\n",
      "15      7\n",
      "9       7\n",
      "2       6\n",
      "3       5\n",
      "11      3\n",
      "12      2\n",
      "50      1\n",
      "14      1\n",
      "16      1\n",
      "17      1\n",
      "20      1\n",
      "47      1\n",
      "236     1\n",
      "Name: WhatsAppGroups, dtype: int64\n",
      "20.0      27\n",
      "10.0      15\n",
      "15.0      14\n",
      "40.0       7\n",
      "30.0       6\n",
      "25.0       6\n",
      "12.0       4\n",
      "45.0       2\n",
      "200.0      2\n",
      "60.0       2\n",
      "70.0       2\n",
      "100.0      2\n",
      "22.0       2\n",
      "13.0       1\n",
      "3.0        1\n",
      "80.0       1\n",
      "11.0       1\n",
      "35.0       1\n",
      "150.0      1\n",
      "50.0       1\n",
      "102.0      1\n",
      "7.0        1\n",
      "5.0        1\n",
      "14.0       1\n",
      "29.0       1\n",
      "3254.0     1\n",
      "Name: AvgGroupMembers, dtype: int64\n"
     ]
    }
   ],
   "source": [
    "#print(df.columns)\n",
    "print(df[\"WhatsAppGroups\"].value_counts())\n",
    "print(df[\"AvgGroupMembers\"].value_counts())"
   ]
  },
  {
   "cell_type": "code",
   "execution_count": 21,
   "metadata": {},
   "outputs": [
    {
     "data": {
      "text/html": [
       "<div>\n",
       "<style scoped>\n",
       "    .dataframe tbody tr th:only-of-type {\n",
       "        vertical-align: middle;\n",
       "    }\n",
       "\n",
       "    .dataframe tbody tr th {\n",
       "        vertical-align: top;\n",
       "    }\n",
       "\n",
       "    .dataframe thead th {\n",
       "        text-align: right;\n",
       "    }\n",
       "</style>\n",
       "<table border=\"1\" class=\"dataframe\">\n",
       "  <thead>\n",
       "    <tr style=\"text-align: right;\">\n",
       "      <th></th>\n",
       "      <th>Sr.No</th>\n",
       "      <th>Name</th>\n",
       "      <th>Gender</th>\n",
       "      <th>Class/Course</th>\n",
       "      <th>Age</th>\n",
       "      <th>Network</th>\n",
       "      <th>WhatsAppGroups</th>\n",
       "      <th>AvgGroupMembers</th>\n",
       "      <th>TimeSpent</th>\n",
       "      <th>DataUsage</th>\n",
       "      <th>...</th>\n",
       "      <th>OtherDevices</th>\n",
       "      <th>PrivacyConcern</th>\n",
       "      <th>Satisfication</th>\n",
       "      <th>OtherMassanger</th>\n",
       "      <th>ChangeDP</th>\n",
       "      <th>ChangeStatus</th>\n",
       "      <th>InclusionInEducation</th>\n",
       "      <th>English</th>\n",
       "      <th>Marathi</th>\n",
       "      <th>Hindi</th>\n",
       "    </tr>\n",
       "  </thead>\n",
       "  <tbody>\n",
       "    <tr>\n",
       "      <td>24</td>\n",
       "      <td>25</td>\n",
       "      <td>fdff sdfdff</td>\n",
       "      <td>Female</td>\n",
       "      <td>MCA II</td>\n",
       "      <td>32</td>\n",
       "      <td>Reliance Jio</td>\n",
       "      <td>236</td>\n",
       "      <td>3254.0</td>\n",
       "      <td>2.466667</td>\n",
       "      <td>512.0</td>\n",
       "      <td>...</td>\n",
       "      <td>Yes, on my computer</td>\n",
       "      <td>No</td>\n",
       "      <td>Very dissatisfied</td>\n",
       "      <td>Facebook Messenger, Hike</td>\n",
       "      <td>Per month</td>\n",
       "      <td>Per month</td>\n",
       "      <td>Yes</td>\n",
       "      <td>1</td>\n",
       "      <td>0</td>\n",
       "      <td>0</td>\n",
       "    </tr>\n",
       "  </tbody>\n",
       "</table>\n",
       "<p>1 rows × 27 columns</p>\n",
       "</div>"
      ],
      "text/plain": [
       "    Sr.No         Name  Gender Class/Course  Age       Network  \\\n",
       "24     25  fdff sdfdff  Female       MCA II   32  Reliance Jio   \n",
       "\n",
       "    WhatsAppGroups  AvgGroupMembers  TimeSpent  DataUsage  ...  \\\n",
       "24             236           3254.0   2.466667      512.0  ...   \n",
       "\n",
       "           OtherDevices  PrivacyConcern      Satisfication  \\\n",
       "24  Yes, on my computer              No  Very dissatisfied   \n",
       "\n",
       "              OtherMassanger   ChangeDP ChangeStatus InclusionInEducation  \\\n",
       "24  Facebook Messenger, Hike  Per month    Per month                  Yes   \n",
       "\n",
       "   English Marathi Hindi  \n",
       "24       1       0     0  \n",
       "\n",
       "[1 rows x 27 columns]"
      ]
     },
     "execution_count": 21,
     "metadata": {},
     "output_type": "execute_result"
    }
   ],
   "source": [
    "df.loc[df[\"WhatsAppGroups\"]==236]\n",
    "# The person who is outlier in both \"WhatsAppGroups\" and  \"AvgGroupMembers\" is a fake entry. So we can think of removeing this entry."
   ]
  },
  {
   "cell_type": "markdown",
   "metadata": {},
   "source": []
  },
  {
   "cell_type": "markdown",
   "metadata": {},
   "source": [
    "# Column : \"Satisfication\""
   ]
  },
  {
   "cell_type": "code",
   "execution_count": 22,
   "metadata": {},
   "outputs": [
    {
     "data": {
      "text/plain": [
       "Moderately satisfied     32\n",
       "neutral                  31\n",
       "Very satisfied           21\n",
       "Slightly satisfied       20\n",
       "Very dissatisfied         1\n",
       "Slightly dissatisfied     1\n",
       "Name: Satisfication, dtype: int64"
      ]
     },
     "execution_count": 22,
     "metadata": {},
     "output_type": "execute_result"
    }
   ],
   "source": [
    "df[\"Satisfication\"].value_counts()"
   ]
  },
  {
   "cell_type": "code",
   "execution_count": 23,
   "metadata": {},
   "outputs": [],
   "source": [
    "# Numbering according to the order\n",
    "df[\"Satisfication\"].replace({\"Very satisfied\":\"3\"},inplace=True)\n",
    "df[\"Satisfication\"].replace({\"Moderately satisfied\":\"2\"},inplace=True)\n",
    "df[\"Satisfication\"].replace({\"Slightly satisfied\":\"1\"},inplace=True)\n",
    "df[\"Satisfication\"].replace({\"neutral\":\"0\"},inplace=True)\n",
    "df[\"Satisfication\"].replace({\"Slightly dissatisfied\":\"-1\"},inplace=True)\n",
    "df[\"Satisfication\"].replace({\"Very dissatisfied\":\"-3\"},inplace=True)"
   ]
  },
  {
   "cell_type": "code",
   "execution_count": 24,
   "metadata": {},
   "outputs": [
    {
     "data": {
      "text/html": [
       "<div>\n",
       "<style scoped>\n",
       "    .dataframe tbody tr th:only-of-type {\n",
       "        vertical-align: middle;\n",
       "    }\n",
       "\n",
       "    .dataframe tbody tr th {\n",
       "        vertical-align: top;\n",
       "    }\n",
       "\n",
       "    .dataframe thead th {\n",
       "        text-align: right;\n",
       "    }\n",
       "</style>\n",
       "<table border=\"1\" class=\"dataframe\">\n",
       "  <thead>\n",
       "    <tr style=\"text-align: right;\">\n",
       "      <th></th>\n",
       "      <th>Sr.No</th>\n",
       "      <th>Name</th>\n",
       "      <th>Gender</th>\n",
       "      <th>Class/Course</th>\n",
       "      <th>Age</th>\n",
       "      <th>Network</th>\n",
       "      <th>WhatsAppGroups</th>\n",
       "      <th>AvgGroupMembers</th>\n",
       "      <th>TimeSpent</th>\n",
       "      <th>DataUsage</th>\n",
       "      <th>...</th>\n",
       "      <th>OtherDevices</th>\n",
       "      <th>PrivacyConcern</th>\n",
       "      <th>Satisfication</th>\n",
       "      <th>OtherMassanger</th>\n",
       "      <th>ChangeDP</th>\n",
       "      <th>ChangeStatus</th>\n",
       "      <th>InclusionInEducation</th>\n",
       "      <th>English</th>\n",
       "      <th>Marathi</th>\n",
       "      <th>Hindi</th>\n",
       "    </tr>\n",
       "  </thead>\n",
       "  <tbody>\n",
       "    <tr>\n",
       "      <td>24</td>\n",
       "      <td>25</td>\n",
       "      <td>fdff sdfdff</td>\n",
       "      <td>Female</td>\n",
       "      <td>MCA II</td>\n",
       "      <td>32</td>\n",
       "      <td>Reliance Jio</td>\n",
       "      <td>236</td>\n",
       "      <td>3254.0</td>\n",
       "      <td>2.466667</td>\n",
       "      <td>512.0</td>\n",
       "      <td>...</td>\n",
       "      <td>Yes, on my computer</td>\n",
       "      <td>No</td>\n",
       "      <td>-3</td>\n",
       "      <td>Facebook Messenger, Hike</td>\n",
       "      <td>Per month</td>\n",
       "      <td>Per month</td>\n",
       "      <td>Yes</td>\n",
       "      <td>1</td>\n",
       "      <td>0</td>\n",
       "      <td>0</td>\n",
       "    </tr>\n",
       "  </tbody>\n",
       "</table>\n",
       "<p>1 rows × 27 columns</p>\n",
       "</div>"
      ],
      "text/plain": [
       "    Sr.No         Name  Gender Class/Course  Age       Network  \\\n",
       "24     25  fdff sdfdff  Female       MCA II   32  Reliance Jio   \n",
       "\n",
       "    WhatsAppGroups  AvgGroupMembers  TimeSpent  DataUsage  ...  \\\n",
       "24             236           3254.0   2.466667      512.0  ...   \n",
       "\n",
       "           OtherDevices  PrivacyConcern Satisfication  \\\n",
       "24  Yes, on my computer              No            -3   \n",
       "\n",
       "              OtherMassanger   ChangeDP ChangeStatus InclusionInEducation  \\\n",
       "24  Facebook Messenger, Hike  Per month    Per month                  Yes   \n",
       "\n",
       "   English Marathi Hindi  \n",
       "24       1       0     0  \n",
       "\n",
       "[1 rows x 27 columns]"
      ]
     },
     "execution_count": 24,
     "metadata": {},
     "output_type": "execute_result"
    }
   ],
   "source": [
    "# This is again the fake entry which we came accross earlier\n",
    "df.loc[df[\"Satisfication\"]==\"-3\"]"
   ]
  },
  {
   "cell_type": "code",
   "execution_count": 25,
   "metadata": {},
   "outputs": [
    {
     "name": "stdout",
     "output_type": "stream",
     "text": [
      "(105, 27)\n"
     ]
    }
   ],
   "source": [
    "# So we will remove it from the data\n",
    "df.drop(24, axis = 0, inplace = True) \n",
    "print(df.shape)"
   ]
  },
  {
   "cell_type": "code",
   "execution_count": 26,
   "metadata": {},
   "outputs": [
    {
     "data": {
      "text/plain": [
       "2     32\n",
       "0     31\n",
       "3     21\n",
       "1     20\n",
       "-1     1\n",
       "Name: Satisfication, dtype: int64"
      ]
     },
     "execution_count": 26,
     "metadata": {},
     "output_type": "execute_result"
    }
   ],
   "source": [
    "df[\"Satisfication\"].value_counts()"
   ]
  },
  {
   "cell_type": "markdown",
   "metadata": {},
   "source": [
    "# Column : PerDayDataConsumption"
   ]
  },
  {
   "cell_type": "code",
   "execution_count": 27,
   "metadata": {},
   "outputs": [
    {
     "data": {
      "text/plain": [
       "array([3072, '1GB', 2048, '1Gb', '1024 mb', '500MB', '500mb', '500mb',\n",
       "       '300 mb', 80, 400, 1024, '10mb', 2048, 500, '700 mb', 1024,\n",
       "       '600 mb', '500 MB', '153 MB', '1024mb', 500, '800MB', '800mb',\n",
       "       '1024 MbB', 500, '900MB', '900MB', 900, 345, 345, 440, 345, 233,\n",
       "       230, '50mb', 300, 100, 200, 50, '450mb', '500 mb', 50, '600MB',\n",
       "       '500MB', 1022, '50mb', '50MB', '500MB', '100mb', '1Gb', '2gb',\n",
       "       '500mb', '400MB', '50mb', '500mb', '60mb', '300mb', '500mb', 40,\n",
       "       '500mb', '250MB', '500MB', '200 mb', '50MB', '20mb', 50, '60MB',\n",
       "       '50MB', '600 MB', '60mb', '250 MB', '300MB', '100mb', '300MB',\n",
       "       '500 MB', '100mb', '300MB', 500, '260 MB', 500, '400MB', '50mb',\n",
       "       '100mb', 500, 50, '280 MB', '30mb', '1000MB', '50MB', 500, 500, 50,\n",
       "       500, 600, 50, '200 mb', 50, '200 MB', 600, '200MB', 1034, '300 mb',\n",
       "       386, '500MB'], dtype=object)"
      ]
     },
     "execution_count": 27,
     "metadata": {},
     "output_type": "execute_result"
    }
   ],
   "source": [
    "np.array(df.PerDayDataConsumption)"
   ]
  },
  {
   "cell_type": "code",
   "execution_count": 28,
   "metadata": {},
   "outputs": [],
   "source": [
    "# Removing \"MB\",\"mb\" from the column\n",
    "for i in df[\"PerDayDataConsumption\"]:\n",
    "    j = df[df[\"PerDayDataConsumption\"]== i].index.values\n",
    "    a = str(i).replace(\"mb\",\"\")\n",
    "    b = a.replace(\"MB\",\"\")\n",
    "    c = b.replace(\"MbB\",\"\")\n",
    "    d = c.strip()\n",
    "    df.loc[j,\"PerDayDataConsumption\"] = d"
   ]
  },
  {
   "cell_type": "code",
   "execution_count": 29,
   "metadata": {},
   "outputs": [
    {
     "data": {
      "text/plain": [
       "array(['3072', '1GB', '2048', '1Gb', '1024', '500', '500', '500', '300',\n",
       "       '80', '400', '1024', '10', '2048', '500', '700', '1024', '600',\n",
       "       '500', '153', '1024', '500', '800', '800', '1024', '500', '900',\n",
       "       '900', '900', '345', '345', '440', '345', '233', '230', '50',\n",
       "       '300', '100', '200', '50', '450', '500', '50', '600', '500',\n",
       "       '1022', '50', '50', '500', '100', '1Gb', '2gb', '500', '400', '50',\n",
       "       '500', '60', '300', '500', '40', '500', '250', '500', '200', '50',\n",
       "       '20', '50', '60', '50', '600', '60', '250', '300', '100', '300',\n",
       "       '500', '100', '300', '500', '260', '500', '400', '50', '100',\n",
       "       '500', '50', '280', '30', '1000', '50', '500', '500', '50', '500',\n",
       "       '600', '50', '200', '50', '200', '600', '200', '1034', '300',\n",
       "       '386', '500'], dtype=object)"
      ]
     },
     "execution_count": 29,
     "metadata": {},
     "output_type": "execute_result"
    }
   ],
   "source": [
    "np.array(df.PerDayDataConsumption)"
   ]
  },
  {
   "cell_type": "code",
   "execution_count": 30,
   "metadata": {},
   "outputs": [],
   "source": [
    "# Making all \"gb,\"Gb\" as \"GB\n",
    "for i in df[\"PerDayDataConsumption\"]:\n",
    "    j = df[df[\"PerDayDataConsumption\"]== i].index.values\n",
    "    v = str(i).replace(\"Gb\",\"GB\")\n",
    "    w = v.replace(\"gb\",\"GB\")\n",
    "    df.loc[j,\"PerDayDataConsumption\"] = w"
   ]
  },
  {
   "cell_type": "code",
   "execution_count": 31,
   "metadata": {},
   "outputs": [],
   "source": [
    "# Removing \"GB\" and Converting the value to MB\n",
    "for i in df[\"PerDayDataConsumption\"]:\n",
    "    j = df[df[\"PerDayDataConsumption\"]== i].index.values\n",
    "    if \"GB\" in i:\n",
    "        x = str(i).replace(\"GB\",\"\")\n",
    "        y = str(x).replace(x,str(int(x)*1024))\n",
    "        df.loc[j,\"PerDayDataConsumption\"] = y"
   ]
  },
  {
   "cell_type": "code",
   "execution_count": 32,
   "metadata": {},
   "outputs": [
    {
     "data": {
      "text/plain": [
       "array(['3072', '1024', '2048', '1024', '1024', '500', '500', '500', '300',\n",
       "       '80', '400', '1024', '10', '2048', '500', '700', '1024', '600',\n",
       "       '500', '153', '1024', '500', '800', '800', '1024', '500', '900',\n",
       "       '900', '900', '345', '345', '440', '345', '233', '230', '50',\n",
       "       '300', '100', '200', '50', '450', '500', '50', '600', '500',\n",
       "       '1022', '50', '50', '500', '100', '1024', '2048', '500', '400',\n",
       "       '50', '500', '60', '300', '500', '40', '500', '250', '500', '200',\n",
       "       '50', '20', '50', '60', '50', '600', '60', '250', '300', '100',\n",
       "       '300', '500', '100', '300', '500', '260', '500', '400', '50',\n",
       "       '100', '500', '50', '280', '30', '1000', '50', '500', '500', '50',\n",
       "       '500', '600', '50', '200', '50', '200', '600', '200', '1034',\n",
       "       '300', '386', '500'], dtype=object)"
      ]
     },
     "execution_count": 32,
     "metadata": {},
     "output_type": "execute_result"
    }
   ],
   "source": [
    "np.array(df.PerDayDataConsumption)"
   ]
  },
  {
   "cell_type": "markdown",
   "metadata": {},
   "source": [
    "# Column : \"PrivacyConcern\""
   ]
  },
  {
   "cell_type": "code",
   "execution_count": 33,
   "metadata": {},
   "outputs": [
    {
     "data": {
      "text/plain": [
       "Yes                  76\n",
       "No                   28\n",
       "depend on my mood     1\n",
       "Name: PrivacyConcern, dtype: int64"
      ]
     },
     "execution_count": 33,
     "metadata": {},
     "output_type": "execute_result"
    }
   ],
   "source": [
    "df[\"PrivacyConcern\"].value_counts()"
   ]
  },
  {
   "cell_type": "code",
   "execution_count": 34,
   "metadata": {},
   "outputs": [
    {
     "data": {
      "text/plain": [
       "Yes    76\n",
       "No     29\n",
       "Name: PrivacyConcern, dtype: int64"
      ]
     },
     "execution_count": 34,
     "metadata": {},
     "output_type": "execute_result"
    }
   ],
   "source": [
    "df[\"PrivacyConcern\"].replace({\"depend on my mood\":\"No\"},inplace=True)\n",
    "df[\"PrivacyConcern\"].value_counts()"
   ]
  },
  {
   "cell_type": "markdown",
   "metadata": {},
   "source": [
    "# Column : \"ChangeDP\""
   ]
  },
  {
   "cell_type": "code",
   "execution_count": 35,
   "metadata": {},
   "outputs": [
    {
     "data": {
      "text/plain": [
       "Per week                                    37\n",
       "Don’t remember                              36\n",
       "Per day                                     12\n",
       "Per month                                   12\n",
       "when my mood change,....                     1\n",
       "when i have a mood to change my profile      1\n",
       "I do not change my profile picture ever.     1\n",
       "per 2 day                                    1\n",
       "any time                                     1\n",
       " I do not change my profile picture          1\n",
       "Per year                                     1\n",
       "When I want to change my profile pic         1\n",
       "Name: ChangeDP, dtype: int64"
      ]
     },
     "execution_count": 35,
     "metadata": {},
     "output_type": "execute_result"
    }
   ],
   "source": [
    "df[\"ChangeDP\"].value_counts()"
   ]
  },
  {
   "cell_type": "code",
   "execution_count": 36,
   "metadata": {},
   "outputs": [
    {
     "data": {
      "text/plain": [
       "7      41\n",
       "300    39\n",
       "1      13\n",
       "30     12\n",
       "Name: ChangeDP, dtype: int64"
      ]
     },
     "execution_count": 36,
     "metadata": {},
     "output_type": "execute_result"
    }
   ],
   "source": [
    "df[\"ChangeDP\"].replace({\"Per year\":\"300\",\n",
    "                        \"Don’t remember\":\"300\",\n",
    "                        \"Per week\":\"7\",\n",
    "                        \"Per month\":\"30\",\n",
    "                        \"Per day\":\"1\",\n",
    "                        \"per 2 day\":\"1\",\n",
    "                        \"when my mood change,....\":\"7\",\n",
    "                        \"When I want to change my profile pic\":\"7\",\n",
    "                        \" I do not change my profile picture \":\"300\",\n",
    "                        \"when i have a mood to change my profile\":\"7\",\n",
    "                        \"any time\":\"7\",\n",
    "                        \"I do not change my profile picture ever.\":\"300\"},inplace=True)\n",
    "df[\"ChangeDP\"].value_counts()"
   ]
  },
  {
   "cell_type": "markdown",
   "metadata": {},
   "source": [
    "# Column : \"ChangeStatus\""
   ]
  },
  {
   "cell_type": "code",
   "execution_count": 37,
   "metadata": {},
   "outputs": [
    {
     "data": {
      "text/plain": [
       "Don’t remember                                           34\n",
       "Per week                                                 28\n",
       "Per day                                                  19\n",
       "Per month                                                15\n",
       "Per year                                                  4\n",
       "When I want to change it                                  1\n",
       "when i want to set then set status otherwise rest it!     1\n",
       "i don''t set a status                                     1\n",
       "Depend on my mood                                         1\n",
       "limitation for 48 hours                                   1\n",
       "Name: ChangeStatus, dtype: int64"
      ]
     },
     "execution_count": 37,
     "metadata": {},
     "output_type": "execute_result"
    }
   ],
   "source": [
    "df[\"ChangeStatus\"].value_counts()"
   ]
  },
  {
   "cell_type": "code",
   "execution_count": 38,
   "metadata": {},
   "outputs": [
    {
     "data": {
      "text/plain": [
       "300    42\n",
       "7      28\n",
       "1      20\n",
       "30     15\n",
       "Name: ChangeStatus, dtype: int64"
      ]
     },
     "execution_count": 38,
     "metadata": {},
     "output_type": "execute_result"
    }
   ],
   "source": [
    "df[\"ChangeStatus\"].replace({\"Per year\":\"300\",\n",
    "                            \"Don’t remember\":\"300\",\n",
    "                            \"Per week\":\"7\",\n",
    "                            \"Per month\":\"30\",\n",
    "                            \"Per day\":\"1\",\n",
    "                            \"limitation for 48 hours\":\"1\",\n",
    "                            \"When I want to change it\":\"300\",\n",
    "                            \"when i want to set then set status otherwise rest it!\":\"300\",\n",
    "                            \"Depend on my mood\":\"300\",\n",
    "                            \"i don''t set a status\":\"300\"},inplace=True)\n",
    "df[\"ChangeStatus\"].value_counts()"
   ]
  },
  {
   "cell_type": "markdown",
   "metadata": {},
   "source": [
    "# Column : \"InclusionInEducation\""
   ]
  },
  {
   "cell_type": "code",
   "execution_count": 39,
   "metadata": {},
   "outputs": [
    {
     "data": {
      "text/plain": [
       "Maybe                         51\n",
       "Yes                           48\n",
       "No                             5\n",
       "i think only for enjiyment     1\n",
       "Name: InclusionInEducation, dtype: int64"
      ]
     },
     "execution_count": 39,
     "metadata": {},
     "output_type": "execute_result"
    }
   ],
   "source": [
    "df[\"InclusionInEducation\"].value_counts()"
   ]
  },
  {
   "cell_type": "code",
   "execution_count": 40,
   "metadata": {},
   "outputs": [
    {
     "data": {
      "text/plain": [
       "Maybe    51\n",
       "Yes      48\n",
       "No        6\n",
       "Name: InclusionInEducation, dtype: int64"
      ]
     },
     "execution_count": 40,
     "metadata": {},
     "output_type": "execute_result"
    }
   ],
   "source": [
    "df[\"InclusionInEducation\"].replace({\"i think only for enjiyment\":\"No\"},inplace=True)\n",
    "df[\"InclusionInEducation\"].value_counts()"
   ]
  },
  {
   "cell_type": "markdown",
   "metadata": {},
   "source": [
    "# Column : \"OtherDevices\" "
   ]
  },
  {
   "cell_type": "code",
   "execution_count": 41,
   "metadata": {},
   "outputs": [
    {
     "data": {
      "text/plain": [
       "No                        78\n",
       "Yes, on my other phone    13\n",
       "Yes, on my computer       13\n",
       "tab                        1\n",
       "Name: OtherDevices, dtype: int64"
      ]
     },
     "execution_count": 41,
     "metadata": {},
     "output_type": "execute_result"
    }
   ],
   "source": [
    "df[\"OtherDevices\"].value_counts()"
   ]
  },
  {
   "cell_type": "code",
   "execution_count": 42,
   "metadata": {},
   "outputs": [
    {
     "data": {
      "text/plain": [
       "No                        78\n",
       "Yes, on my other phone    14\n",
       "Yes, on my computer       13\n",
       "Name: OtherDevices, dtype: int64"
      ]
     },
     "execution_count": 42,
     "metadata": {},
     "output_type": "execute_result"
    }
   ],
   "source": [
    "df[\"OtherDevices\"].replace({\"tab\":\"Yes, on my other phone\"},inplace=True)\n",
    "df[\"OtherDevices\"].value_counts()"
   ]
  },
  {
   "cell_type": "markdown",
   "metadata": {},
   "source": [
    "# Column : \"FeaturesDissatisfied\""
   ]
  },
  {
   "cell_type": "code",
   "execution_count": 43,
   "metadata": {},
   "outputs": [
    {
     "data": {
      "text/plain": [
       "No                                               89\n",
       "Yes (Please specify the feature with reason )    12\n",
       "Recall msg                                        1\n",
       "need of Dp privacy..                              1\n",
       "Emojies                                           1\n",
       "Name: FeaturesDissatisfied, dtype: int64"
      ]
     },
     "execution_count": 43,
     "metadata": {},
     "output_type": "execute_result"
    }
   ],
   "source": [
    "df[\"FeaturesDissatisfied\"].value_counts()"
   ]
  },
  {
   "cell_type": "code",
   "execution_count": 44,
   "metadata": {},
   "outputs": [
    {
     "data": {
      "text/plain": [
       "No     89\n",
       "Yes    15\n",
       "Name: FeaturesDissatisfied, dtype: int64"
      ]
     },
     "execution_count": 44,
     "metadata": {},
     "output_type": "execute_result"
    }
   ],
   "source": [
    "df[\"FeaturesDissatisfied\"].replace({\"Yes (Please specify the feature with reason )\":\"Yes\",\n",
    "                                    \"need of Dp privacy..\":\"Yes\",\n",
    "                                   \"Emojies\":\"Yes\",\n",
    "                                   \"Recall msg\":\"Yes\"},inplace=True)\n",
    "df[\"FeaturesDissatisfied\"].value_counts()"
   ]
  },
  {
   "cell_type": "markdown",
   "metadata": {},
   "source": [
    "# Column : \"FeaturesShouldBeAdded\""
   ]
  },
  {
   "cell_type": "code",
   "execution_count": 45,
   "metadata": {},
   "outputs": [
    {
     "data": {
      "text/plain": [
       "No new features are necessary                                                                       70\n",
       "Mini Games                                                                                          25\n",
       "Sticker as like hike app                                                                             1\n",
       "no compulsion of internet and If u blok anyone then he dont understand that u bloked this person     1\n",
       "add online feature to see people.(like facebook)who online that time.                                1\n",
       "for DP privacy                                                                                       1\n",
       "which person list online there at that time                                                          1\n",
       "add a features who one can see our profile pic even though they r not in contact                     1\n",
       "Dp privacy                                                                                           1\n",
       "Don't Display Online status                                                                          1\n",
       "E-pay                                                                                                1\n",
       "Name: FeaturesShouldBeAdded, dtype: int64"
      ]
     },
     "execution_count": 45,
     "metadata": {},
     "output_type": "execute_result"
    }
   ],
   "source": [
    "df[\"FeaturesShouldBeAdded\"].value_counts()"
   ]
  },
  {
   "cell_type": "code",
   "execution_count": 46,
   "metadata": {},
   "outputs": [
    {
     "data": {
      "text/plain": [
       "No new features are necessary    70\n",
       "Mini Games                       26\n",
       "Dp privacy                        3\n",
       "Online Contacts List              2\n",
       "Online List                       1\n",
       "E-pay                             1\n",
       "Stickers                          1\n",
       "Name: FeaturesShouldBeAdded, dtype: int64"
      ]
     },
     "execution_count": 46,
     "metadata": {},
     "output_type": "execute_result"
    }
   ],
   "source": [
    "df[\"FeaturesShouldBeAdded\"].replace({\"for DP privacy\":\"Dp privacy\",\n",
    "                                    \"Sticker as like hike app\":\"Stickers\",\n",
    "                                     \"add a features who one can see our profile pic even though they r not in contact\":\"Dp privacy\",\n",
    "                                   \"no compulsion of internet and If u blok anyone then he dont understand that u bloked this person\":\"Mini Games\",\n",
    "                                   \"which person list online there at that time\":\"Online List\",\n",
    "                                    \"add online feature to see people.(like facebook)who online that time.\":\"Online Contacts List\",\n",
    "                                    \"Don't Display Online status\":\"Online Contacts List\"},inplace=True)\n",
    "df[\"FeaturesShouldBeAdded\"].value_counts()"
   ]
  },
  {
   "cell_type": "markdown",
   "metadata": {},
   "source": [
    "# Column : \"SecurityRequirment\""
   ]
  },
  {
   "cell_type": "code",
   "execution_count": 47,
   "metadata": {},
   "outputs": [
    {
     "data": {
      "text/plain": [
       "I want the best possible security for my information    78\n",
       "I expect common secure techniques to be implemented     17\n",
       "I am not too bothered with security.                    10\n",
       "Name: SecurityRequirment, dtype: int64"
      ]
     },
     "execution_count": 47,
     "metadata": {},
     "output_type": "execute_result"
    }
   ],
   "source": [
    "df[\"SecurityRequirment\"].value_counts()"
   ]
  },
  {
   "cell_type": "code",
   "execution_count": 48,
   "metadata": {},
   "outputs": [
    {
     "data": {
      "text/plain": [
       "Need Best Security       78\n",
       "Need Average Security    17\n",
       "No Security Consern      10\n",
       "Name: SecurityRequirment, dtype: int64"
      ]
     },
     "execution_count": 48,
     "metadata": {},
     "output_type": "execute_result"
    }
   ],
   "source": [
    "df[\"SecurityRequirment\"].replace({\"I want the best possible security for my information\":\"Need Best Security\",\n",
    "                                    \"I expect common secure techniques to be implemented\":\"Need Average Security\",\n",
    "                                   \"I am not too bothered with security.\":\"No Security Consern\",\n",
    "                                   \"Recall msg\":\"Yes\"},inplace=True)\n",
    "df[\"SecurityRequirment\"].value_counts()"
   ]
  },
  {
   "cell_type": "markdown",
   "metadata": {},
   "source": [
    "# Column : \"Class/Course\""
   ]
  },
  {
   "cell_type": "code",
   "execution_count": 49,
   "metadata": {},
   "outputs": [
    {
     "data": {
      "text/plain": [
       "M. Sc I                  25\n",
       "MCA I                    18\n",
       "MCA II                   17\n",
       "M.Sc Tech II              7\n",
       "M.Sc.Tech II              3\n",
       "M.Sc II                   3\n",
       "Msc Tech 2                3\n",
       "MCA III                   3\n",
       "M.Sc Tech 2               2\n",
       "M.Sc.tech II              2\n",
       "M.Sc.Tech II(maths)       2\n",
       "MSc tech 1                2\n",
       "MSc tech 1                2\n",
       "M. Sc Tech I              2\n",
       "MscTech2                  1\n",
       "MscTech 2                 1\n",
       "M.Sc. Tech II             1\n",
       "BCA                       1\n",
       "M.Sc.Tech.1               1\n",
       "BE computer               1\n",
       "M.sc Tech II              1\n",
       "M.Sc Tech II              1\n",
       "Msc tech 1                1\n",
       "M.Sc Tech 1               1\n",
       "M. Sc Tech II             1\n",
       "M.Sc Tech II ( Maths)     1\n",
       "M.Sc.techII               1\n",
       "M.Sc Tech ll Maths        1\n",
       "Name: Class/Course, dtype: int64"
      ]
     },
     "execution_count": 49,
     "metadata": {},
     "output_type": "execute_result"
    }
   ],
   "source": [
    "df[\"Class/Course\"].value_counts()"
   ]
  },
  {
   "cell_type": "code",
   "execution_count": 50,
   "metadata": {},
   "outputs": [
    {
     "data": {
      "text/plain": [
       "M.Sc. Tech II    28\n",
       "M.Sc. I          25\n",
       "MCA I            18\n",
       "MCA II           17\n",
       "M.Sc. Tech I      9\n",
       "M.Sc. II          3\n",
       "MCA III           3\n",
       "BCA               1\n",
       "BE computer       1\n",
       "Name: Class/Course, dtype: int64"
      ]
     },
     "execution_count": 50,
     "metadata": {},
     "output_type": "execute_result"
    }
   ],
   "source": [
    "df[\"Class/Course\"].replace({\"M. Sc I\":\"M.Sc. I\",\n",
    "                            \"M.Sc Tech II\" : \"M.Sc. Tech II\",\n",
    "                            \"Msc Tech 2\" : \"M.Sc. Tech II\",\n",
    "                            \"M.Sc II\" : \"M.Sc. II\",\n",
    "                            \"M.Sc.Tech II\" : \"M.Sc. Tech II\",\n",
    "                            \"MSc tech 1\" : \"M.Sc. Tech I\",\n",
    "                            \"M.Sc.Tech II(maths)\" : \"M.Sc. Tech II\",\n",
    "                            \"MSc tech 1 \" : \"M.Sc. Tech I\",\n",
    "                            \"M.Sc Tech 2\" : \"M.Sc. Tech II\",             \n",
    "                            \"M. Sc Tech I\" : \"M.Sc. Tech I\",\n",
    "                            \"M.Sc.tech II\" : \"M.Sc. Tech II\",\n",
    "                            \"Msc tech 1\" : \"M.Sc. Tech I\",\n",
    "                            \"M.Sc Tech 1\" : \"M.Sc. Tech I\",\n",
    "                            \"BE computer\" : \"BE Computer\",\n",
    "                            \"M.Sc Tech ll Maths\" : \"M.Sc. Tech II\",\n",
    "                            \"M.Sc Tech II ( Maths)\" : \"M.Sc. Tech II\",\n",
    "                            \"M.Sc.techII\" : \"M.Sc. Tech II\",\n",
    "                            \"M.Sc Tech II \" : \"M.Sc. Tech II\",\n",
    "                            \"MscTech 2\" : \"M.Sc. Tech II\",\n",
    "                            \"M.sc Tech II\" : \"M.Sc. Tech II\",\n",
    "                            \"M.Sc.Tech.1\" : \"M.Sc. Tech I\",\n",
    "                            \"M. Sc Tech II\" : \"M.Sc. Tech II\",\n",
    "                            \"MscTech2\" : \"M.Sc. Tech II\",\n",
    "                            \"M.Sc. Tech II\" : \"M.Sc. Tech II\"\n",
    "                             },inplace=True)\n",
    "df[\"Class/Course\"].value_counts()"
   ]
  },
  {
   "cell_type": "markdown",
   "metadata": {},
   "source": [
    "# Checking remaining columns"
   ]
  },
  {
   "cell_type": "code",
   "execution_count": 51,
   "metadata": {},
   "outputs": [
    {
     "data": {
      "text/plain": [
       "Index(['Sr.No', 'Name', 'Gender', 'Class/Course', 'Age', 'Network',\n",
       "       'WhatsAppGroups', 'AvgGroupMembers', 'TimeSpent', 'DataUsage',\n",
       "       'PerDayDataConsumption', 'RegularContacts', 'DescribeWhatsAppUsage',\n",
       "       'FeaturesInUse', 'FeaturesDissatisfied', 'FeaturesShouldBeAdded',\n",
       "       'SecurityRequirment', 'OtherDevices', 'PrivacyConcern', 'Satisfication',\n",
       "       'OtherMassanger', 'ChangeDP', 'ChangeStatus', 'InclusionInEducation',\n",
       "       'English', 'Marathi', 'Hindi'],\n",
       "      dtype='object')"
      ]
     },
     "execution_count": 51,
     "metadata": {},
     "output_type": "execute_result"
    }
   ],
   "source": [
    "df.columns"
   ]
  },
  {
   "cell_type": "code",
   "execution_count": 52,
   "metadata": {},
   "outputs": [
    {
     "data": {
      "text/plain": [
       "2.466667    105\n",
       "Name: TimeSpent, dtype: int64"
      ]
     },
     "execution_count": 52,
     "metadata": {},
     "output_type": "execute_result"
    }
   ],
   "source": [
    "df['TimeSpent'].value_counts()"
   ]
  },
  {
   "cell_type": "code",
   "execution_count": 53,
   "metadata": {},
   "outputs": [
    {
     "data": {
      "text/plain": [
       "WhatsApp is my preferred app for communication                                                                                                                                                                    34\n",
       "I use WhatsApp to communicate with colleagues from my work place                                                                                                                                                  30\n",
       "I mostly use it to communicate with a certain group of people. (e.g. friends who are abroad)                                                                                                                      13\n",
       "I mostly use it to communicate with a certain group of people. (e.g. friends who are abroad), WhatsApp is my preferred app for communication                                                                       9\n",
       "I mostly use it to communicate with a certain group of people. (e.g. friends who are abroad), WhatsApp is my preferred app for communication, I use WhatsApp to communicate with colleagues from my work place     7\n",
       "I mostly use it to communicate with a certain group of people. (e.g. friends who are abroad), I use WhatsApp to communicate with colleagues from my work place                                                     7\n",
       "WhatsApp is my preferred app for communication, I use WhatsApp to communicate with colleagues from my work place                                                                                                   3\n",
       "I mostly use it to communicate with a certain group of people. (e.g. friends who are abroad), I use WhatsApp to communicate with colleagues from my work place, use for also study distribution                    1\n",
       "I mostly use it to communicate with a certain group of people. (e.g. friends who are abroad), I use WhatsApp to communicate with colleagues from my work place, eduction                                           1\n",
       "Name: DescribeWhatsAppUsage, dtype: int64"
      ]
     },
     "execution_count": 53,
     "metadata": {},
     "output_type": "execute_result"
    }
   ],
   "source": [
    "df[\"DescribeWhatsAppUsage\"].value_counts()"
   ]
  },
  {
   "cell_type": "code",
   "execution_count": 54,
   "metadata": {},
   "outputs": [
    {
     "data": {
      "text/plain": [
       "Messages (e.g GM/GA/GN/ Quotes etc), Chat, Group Messages, Group Chat, Voice call, Voice Message, Share Photos, Share Videos                    19\n",
       "Chat                                                                                                                                            10\n",
       "Messages (e.g GM/GA/GN/ Quotes etc), Chat, Group Messages, Group Chat, Share Photos, Share Videos                                                7\n",
       "Messages (e.g GM/GA/GN/ Quotes etc), Chat, Group Messages, Group Chat, Voice call, Share Photos, Share Videos                                    7\n",
       "Share Photos                                                                                                                                     5\n",
       "Chat, Share Photos                                                                                                                               5\n",
       "Messages (e.g GM/GA/GN/ Quotes etc), Chat, Share Photos, Share Videos                                                                            4\n",
       "Messages (e.g GM/GA/GN/ Quotes etc), Chat                                                                                                        4\n",
       "Chat, Group Chat, Share Photos, Share Videos                                                                                                     4\n",
       "Chat, Group Messages, Group Chat, Voice call, Voice Message, Share Photos, Share Videos                                                          3\n",
       "Chat, Group Messages, Group Chat, Voice call, Share Photos, Share Videos                                                                         3\n",
       "Messages (e.g GM/GA/GN/ Quotes etc), Chat, Voice Message, Share Photos, Share Videos                                                             2\n",
       "Group Chat                                                                                                                                       2\n",
       "Messages (e.g GM/GA/GN/ Quotes etc)                                                                                                              2\n",
       "Messages (e.g GM/GA/GN/ Quotes etc), Group Chat, Share Photos, Share Videos                                                                      2\n",
       "Messages (e.g GM/GA/GN/ Quotes etc), Chat, Group Messages, Group Chat, Voice call, Share Photos                                                  2\n",
       "Messages (e.g GM/GA/GN/ Quotes etc), Chat, Group Messages, Voice call, Share Photos, Share Videos                                                1\n",
       "Chat, Group Messages, Voice call, Voice Message, Share Photos, Share Videos                                                                      1\n",
       "Messages (e.g GM/GA/GN/ Quotes etc), Voice call, Share Photos, Share Videos                                                                      1\n",
       "Chat, Group Messages, Group Chat, Share Photos, Share Videos                                                                                     1\n",
       "Messages (e.g GM/GA/GN/ Quotes etc), Voice call, Share Photos                                                                                    1\n",
       "Chat, Group Messages, Share Photos, Share Videos                                                                                                 1\n",
       "Messages (e.g GM/GA/GN/ Quotes etc), Chat, Group Chat, Voice Message, Share Photos, Share Videos                                                 1\n",
       "news                                                                                                                                             1\n",
       "Group Messages, Voice call, Share Photos, Share Videos                                                                                           1\n",
       "Messages (e.g GM/GA/GN/ Quotes etc), Chat, Group Chat, Voice call, Share Photos, Share Videos                                                    1\n",
       "Messages (e.g GM/GA/GN/ Quotes etc), Chat, Group Messages, Group Chat, video calling                                                             1\n",
       "Group Messages, Group Chat, Share Photos                                                                                                         1\n",
       "Messages (e.g GM/GA/GN/ Quotes etc), Chat, Share Photos                                                                                          1\n",
       "Messages (e.g GM/GA/GN/ Quotes etc), Group Chat, Share Photos                                                                                    1\n",
       "Messages (e.g GM/GA/GN/ Quotes etc), Chat, Group Messages, Share Photos                                                                          1\n",
       "Messages (e.g GM/GA/GN/ Quotes etc), Group Messages, Group Chat, Voice call, Share Photos, Share Videos                                          1\n",
       "Chat, Share Videos                                                                                                                               1\n",
       "Group Chat, Share Photos, Share Videos                                                                                                           1\n",
       "Messages (e.g GM/GA/GN/ Quotes etc), Chat, Group Messages, Voice call                                                                            1\n",
       "Messages (e.g GM/GA/GN/ Quotes etc), Chat, Group Messages, Group Chat, Share Photos                                                              1\n",
       "Messages (e.g GM/GA/GN/ Quotes etc), Chat, Group Chat, Share Photos                                                                              1\n",
       "Messages (e.g GM/GA/GN/ Quotes etc), Chat, Group Messages, Group Chat                                                                            1\n",
       "Messages (e.g GM/GA/GN/ Quotes etc), Chat, Group Messages, Group Chat, Voice call, Voice Message, Share Photos, Share Videos, Share location     1\n",
       "Messages (e.g GM/GA/GN/ Quotes etc), Voice call                                                                                                  1\n",
       "Name: FeaturesInUse, dtype: int64"
      ]
     },
     "execution_count": 54,
     "metadata": {},
     "output_type": "execute_result"
    }
   ],
   "source": [
    "df[\"FeaturesInUse\"].value_counts()"
   ]
  },
  {
   "cell_type": "code",
   "execution_count": 55,
   "metadata": {},
   "outputs": [
    {
     "data": {
      "text/plain": [
       "Facebook Messenger, Hike                                                                           24\n",
       "Facebook Messenger                                                                                 23\n",
       "Hike                                                                                               21\n",
       "no                                                                                                  4\n",
       "instagram                                                                                           3\n",
       "Facebook Messenger, Telegram, Hike                                                                  2\n",
       "Telegram                                                                                            2\n",
       "Telegram, Hike                                                                                      2\n",
       "text message                                                                                        2\n",
       "Facebook Messenger, Telegram                                                                        2\n",
       "ChatON, Facebook Messenger, Telegram, Hike                                                          2\n",
       "Skype, Telegram, Hike                                                                               1\n",
       "No                                                                                                  1\n",
       "No                                                                                                  1\n",
       "Hike, instagram                                                                                     1\n",
       "Hangouts, Telegram, Hike                                                                            1\n",
       "Facebook Messenger, Tango, Kik Messenger, KakaoTalk Messenger, LiveProfile, Telegram, Hike, all     1\n",
       "Viber                                                                                               1\n",
       "Fb                                                                                                  1\n",
       "Viber, Skype, WeChat, Facebook Messenger, Tango, Telegram, Hike                                     1\n",
       "Facebook Messenger, instagram,google duo                                                            1\n",
       "NO                                                                                                  1\n",
       "No ,because i am not interested .                                                                   1\n",
       "Hangouts                                                                                            1\n",
       "Name: OtherMassanger, dtype: int64"
      ]
     },
     "execution_count": 55,
     "metadata": {},
     "output_type": "execute_result"
    }
   ],
   "source": [
    "df[\"OtherMassanger\"].value_counts()"
   ]
  },
  {
   "cell_type": "markdown",
   "metadata": {},
   "source": [
    "## Deleting irrelevent columns"
   ]
  },
  {
   "cell_type": "code",
   "execution_count": 56,
   "metadata": {},
   "outputs": [],
   "source": [
    "del df[\"TimeSpent\"]\n",
    "del df[\"DescribeWhatsAppUsage\"]\n",
    "del df[\"FeaturesInUse\"]\n",
    "del df[\"OtherMassanger\"]"
   ]
  },
  {
   "cell_type": "code",
   "execution_count": 57,
   "metadata": {},
   "outputs": [
    {
     "data": {
      "text/html": [
       "<div>\n",
       "<style scoped>\n",
       "    .dataframe tbody tr th:only-of-type {\n",
       "        vertical-align: middle;\n",
       "    }\n",
       "\n",
       "    .dataframe tbody tr th {\n",
       "        vertical-align: top;\n",
       "    }\n",
       "\n",
       "    .dataframe thead th {\n",
       "        text-align: right;\n",
       "    }\n",
       "</style>\n",
       "<table border=\"1\" class=\"dataframe\">\n",
       "  <thead>\n",
       "    <tr style=\"text-align: right;\">\n",
       "      <th></th>\n",
       "      <th>Sr.No</th>\n",
       "      <th>Name</th>\n",
       "      <th>Gender</th>\n",
       "      <th>Class/Course</th>\n",
       "      <th>Age</th>\n",
       "      <th>Network</th>\n",
       "      <th>WhatsAppGroups</th>\n",
       "      <th>AvgGroupMembers</th>\n",
       "      <th>DataUsage</th>\n",
       "      <th>PerDayDataConsumption</th>\n",
       "      <th>...</th>\n",
       "      <th>SecurityRequirment</th>\n",
       "      <th>OtherDevices</th>\n",
       "      <th>PrivacyConcern</th>\n",
       "      <th>Satisfication</th>\n",
       "      <th>ChangeDP</th>\n",
       "      <th>ChangeStatus</th>\n",
       "      <th>InclusionInEducation</th>\n",
       "      <th>English</th>\n",
       "      <th>Marathi</th>\n",
       "      <th>Hindi</th>\n",
       "    </tr>\n",
       "  </thead>\n",
       "  <tbody>\n",
       "    <tr>\n",
       "      <td>0</td>\n",
       "      <td>1</td>\n",
       "      <td>Soniya Sharma</td>\n",
       "      <td>Female</td>\n",
       "      <td>MCA II</td>\n",
       "      <td>23</td>\n",
       "      <td>BSNL</td>\n",
       "      <td>15</td>\n",
       "      <td>100.0</td>\n",
       "      <td>750.0</td>\n",
       "      <td>3072</td>\n",
       "      <td>...</td>\n",
       "      <td>Need Best Security</td>\n",
       "      <td>Yes, on my other phone</td>\n",
       "      <td>Yes</td>\n",
       "      <td>3</td>\n",
       "      <td>300</td>\n",
       "      <td>300</td>\n",
       "      <td>Yes</td>\n",
       "      <td>1</td>\n",
       "      <td>1</td>\n",
       "      <td>1</td>\n",
       "    </tr>\n",
       "    <tr>\n",
       "      <td>1</td>\n",
       "      <td>2</td>\n",
       "      <td>Ayodhya Pandurang Jadhav</td>\n",
       "      <td>Female</td>\n",
       "      <td>MCA II</td>\n",
       "      <td>22</td>\n",
       "      <td>Airtel</td>\n",
       "      <td>7</td>\n",
       "      <td>25.0</td>\n",
       "      <td>50.0</td>\n",
       "      <td>1024</td>\n",
       "      <td>...</td>\n",
       "      <td>Need Best Security</td>\n",
       "      <td>No</td>\n",
       "      <td>Yes</td>\n",
       "      <td>0</td>\n",
       "      <td>7</td>\n",
       "      <td>30</td>\n",
       "      <td>Yes</td>\n",
       "      <td>1</td>\n",
       "      <td>1</td>\n",
       "      <td>0</td>\n",
       "    </tr>\n",
       "    <tr>\n",
       "      <td>2</td>\n",
       "      <td>3</td>\n",
       "      <td>Shrijeet Patil</td>\n",
       "      <td>Male</td>\n",
       "      <td>MCA II</td>\n",
       "      <td>22</td>\n",
       "      <td>BSNL</td>\n",
       "      <td>15</td>\n",
       "      <td>100.0</td>\n",
       "      <td>750.0</td>\n",
       "      <td>2048</td>\n",
       "      <td>...</td>\n",
       "      <td>Need Best Security</td>\n",
       "      <td>Yes, on my other phone</td>\n",
       "      <td>Yes</td>\n",
       "      <td>2</td>\n",
       "      <td>30</td>\n",
       "      <td>300</td>\n",
       "      <td>Yes</td>\n",
       "      <td>1</td>\n",
       "      <td>1</td>\n",
       "      <td>1</td>\n",
       "    </tr>\n",
       "    <tr>\n",
       "      <td>3</td>\n",
       "      <td>4</td>\n",
       "      <td>Heena</td>\n",
       "      <td>Female</td>\n",
       "      <td>MCA II</td>\n",
       "      <td>21</td>\n",
       "      <td>Reliance Jio</td>\n",
       "      <td>5</td>\n",
       "      <td>10.0</td>\n",
       "      <td>30.0</td>\n",
       "      <td>1024</td>\n",
       "      <td>...</td>\n",
       "      <td>Need Best Security</td>\n",
       "      <td>No</td>\n",
       "      <td>No</td>\n",
       "      <td>3</td>\n",
       "      <td>300</td>\n",
       "      <td>1</td>\n",
       "      <td>Yes</td>\n",
       "      <td>1</td>\n",
       "      <td>1</td>\n",
       "      <td>0</td>\n",
       "    </tr>\n",
       "    <tr>\n",
       "      <td>4</td>\n",
       "      <td>5</td>\n",
       "      <td>Arati Dubule</td>\n",
       "      <td>Female</td>\n",
       "      <td>MCA II</td>\n",
       "      <td>22</td>\n",
       "      <td>Idea</td>\n",
       "      <td>10</td>\n",
       "      <td>40.0</td>\n",
       "      <td>500.0</td>\n",
       "      <td>1024</td>\n",
       "      <td>...</td>\n",
       "      <td>Need Best Security</td>\n",
       "      <td>No</td>\n",
       "      <td>Yes</td>\n",
       "      <td>2</td>\n",
       "      <td>7</td>\n",
       "      <td>300</td>\n",
       "      <td>Yes</td>\n",
       "      <td>1</td>\n",
       "      <td>1</td>\n",
       "      <td>1</td>\n",
       "    </tr>\n",
       "  </tbody>\n",
       "</table>\n",
       "<p>5 rows × 23 columns</p>\n",
       "</div>"
      ],
      "text/plain": [
       "   Sr.No                       Name  Gender Class/Course  Age       Network  \\\n",
       "0      1              Soniya Sharma  Female       MCA II   23          BSNL   \n",
       "1      2   Ayodhya Pandurang Jadhav  Female       MCA II   22        Airtel   \n",
       "2      3             Shrijeet Patil    Male       MCA II   22          BSNL   \n",
       "3      4                     Heena   Female       MCA II   21  Reliance Jio   \n",
       "4      5               Arati Dubule  Female       MCA II   22          Idea   \n",
       "\n",
       "   WhatsAppGroups  AvgGroupMembers  DataUsage PerDayDataConsumption  ...  \\\n",
       "0              15            100.0      750.0                  3072  ...   \n",
       "1               7             25.0       50.0                  1024  ...   \n",
       "2              15            100.0      750.0                  2048  ...   \n",
       "3               5             10.0       30.0                  1024  ...   \n",
       "4              10             40.0      500.0                  1024  ...   \n",
       "\n",
       "   SecurityRequirment            OtherDevices PrivacyConcern Satisfication  \\\n",
       "0  Need Best Security  Yes, on my other phone            Yes             3   \n",
       "1  Need Best Security                      No            Yes             0   \n",
       "2  Need Best Security  Yes, on my other phone            Yes             2   \n",
       "3  Need Best Security                      No             No             3   \n",
       "4  Need Best Security                      No            Yes             2   \n",
       "\n",
       "  ChangeDP ChangeStatus InclusionInEducation English Marathi Hindi  \n",
       "0      300          300                  Yes       1       1     1  \n",
       "1        7           30                  Yes       1       1     0  \n",
       "2       30          300                  Yes       1       1     1  \n",
       "3      300            1                  Yes       1       1     0  \n",
       "4        7          300                  Yes       1       1     1  \n",
       "\n",
       "[5 rows x 23 columns]"
      ]
     },
     "execution_count": 57,
     "metadata": {},
     "output_type": "execute_result"
    }
   ],
   "source": [
    "df.head()"
   ]
  },
  {
   "cell_type": "markdown",
   "metadata": {},
   "source": [
    "# The Dataset is now cleaned and is ready for visualization and modeling."
   ]
  }
 ],
 "metadata": {
  "kernelspec": {
   "display_name": "Python 3",
   "language": "python",
   "name": "python3"
  },
  "language_info": {
   "codemirror_mode": {
    "name": "ipython",
    "version": 3
   },
   "file_extension": ".py",
   "mimetype": "text/x-python",
   "name": "python",
   "nbconvert_exporter": "python",
   "pygments_lexer": "ipython3",
   "version": "3.7.4"
  }
 },
 "nbformat": 4,
 "nbformat_minor": 2
}
